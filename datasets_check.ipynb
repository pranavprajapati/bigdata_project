{
  "nbformat": 4,
  "nbformat_minor": 0,
  "metadata": {
    "colab": {
      "name": "datasets_check.ipynb",
      "version": "0.3.2",
      "provenance": [],
      "collapsed_sections": [],
      "toc_visible": true,
      "include_colab_link": true
    },
    "kernelspec": {
      "name": "python3",
      "display_name": "Python 3"
    }
  },
  "cells": [
    {
      "cell_type": "markdown",
      "metadata": {
        "id": "view-in-github",
        "colab_type": "text"
      },
      "source": [
        "<a href=\"https://colab.research.google.com/github/pranavprajapati/house_prices_prediction/blob/master/datasets_check.ipynb\" target=\"_parent\"><img src=\"https://colab.research.google.com/assets/colab-badge.svg\" alt=\"Open In Colab\"/></a>"
      ]
    },
    {
      "metadata": {
        "id": "-E7zW7GRFYHb",
        "colab_type": "text"
      },
      "cell_type": "markdown",
      "source": [
        "##DATA EXPLORATION"
      ]
    },
    {
      "metadata": {
        "id": "qmTRBxzJG3Os",
        "colab_type": "code",
        "colab": {}
      },
      "cell_type": "code",
      "source": [
        "!apt-get install openjdk-8-jdk-headless -qq > /dev/null\n",
        "!wget -q https://www-us.apache.org/dist/spark/spark-2.4.1/spark-2.4.1-bin-hadoop2.7.tgz\n",
        "!tar xf spark-2.4.1-bin-hadoop2.7.tgz\n",
        "!pip install -q findspark"
      ],
      "execution_count": 0,
      "outputs": []
    },
    {
      "metadata": {
        "id": "U1TfecV6HIMh",
        "colab_type": "code",
        "colab": {}
      },
      "cell_type": "code",
      "source": [
        "import os\n",
        "os.environ[\"JAVA_HOME\"] = \"/usr/lib/jvm/java-8-openjdk-amd64\"\n",
        "os.environ[\"SPARK_HOME\"] = \"/content/spark-2.4.1-bin-hadoop2.7\""
      ],
      "execution_count": 0,
      "outputs": []
    },
    {
      "metadata": {
        "id": "GUkl1gbsKBW9",
        "colab_type": "code",
        "colab": {}
      },
      "cell_type": "code",
      "source": [
        "import findspark\n",
        "findspark.init()\n",
        "from pyspark.sql import SparkSession\n",
        "spark = SparkSession.builder.master(\"local[*]\").getOrCreate()\n"
      ],
      "execution_count": 0,
      "outputs": []
    },
    {
      "metadata": {
        "id": "mIa-XElUUOZd",
        "colab_type": "text"
      },
      "cell_type": "markdown",
      "source": [
        "HI everyone"
      ]
    },
    {
      "metadata": {
        "id": "dqn0HK5hFP4E",
        "colab_type": "code",
        "outputId": "0586e95b-e88d-42b3-e97c-c4251798d822",
        "colab": {
          "resources": {
            "http://localhost:8080/nbextensions/google.colab/files.js": {
              "data": "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",
              "ok": true,
              "headers": [
                [
                  "content-type",
                  "application/javascript"
                ]
              ],
              "status": 200,
              "status_text": ""
            }
          },
          "base_uri": "https://localhost:8080/",
          "height": 54
        }
      },
      "cell_type": "code",
      "source": [
        "from google.colab import files\n",
        "files.upload()\n"
      ],
      "execution_count": 4,
      "outputs": [
        {
          "output_type": "display_data",
          "data": {
            "text/html": [
              "\n",
              "     <input type=\"file\" id=\"files-baf875b4-ecaa-4ba5-bc84-c1717c379d97\" name=\"files[]\" multiple disabled />\n",
              "     <output id=\"result-baf875b4-ecaa-4ba5-bc84-c1717c379d97\">\n",
              "      Upload widget is only available when the cell has been executed in the\n",
              "      current browser session. Please rerun this cell to enable.\n",
              "      </output>\n",
              "      <script src=\"/nbextensions/google.colab/files.js\"></script> "
            ],
            "text/plain": [
              "<IPython.core.display.HTML object>"
            ]
          },
          "metadata": {
            "tags": []
          }
        },
        {
          "output_type": "execute_result",
          "data": {
            "text/plain": [
              "{}"
            ]
          },
          "metadata": {
            "tags": []
          },
          "execution_count": 4
        }
      ]
    },
    {
      "metadata": {
        "id": "tD0afACoGK_p",
        "colab_type": "code",
        "outputId": "d300ab08-7f1d-4ad0-d806-f8da6db001f7",
        "colab": {
          "base_uri": "https://localhost:8080/",
          "height": 34
        }
      },
      "cell_type": "code",
      "source": [
        "!ls\n"
      ],
      "execution_count": 1,
      "outputs": [
        {
          "output_type": "stream",
          "text": [
            "sample_data\n"
          ],
          "name": "stdout"
        }
      ]
    },
    {
      "metadata": {
        "id": "cyyMErAHNwId",
        "colab_type": "code",
        "colab": {}
      },
      "cell_type": "code",
      "source": [
        "!rm -rf "
      ],
      "execution_count": 0,
      "outputs": []
    },
    {
      "metadata": {
        "id": "xqavxDeXGRxA",
        "colab_type": "code",
        "colab": {}
      },
      "cell_type": "code",
      "source": [
        "import pandas as pd\n",
        "import numpy as np\n",
        "from pyspark.ml.linalg import Vectors\n",
        "from pyspark.ml.feature import VectorAssembler\n",
        "from pyspark.ml.feature import StringIndexer\n",
        "from pyspark.ml.regression import LinearRegression\n",
        "from pyspark.ml.regression import RandomForestRegressor\n",
        "from pyspark.sql.functions import corr\n",
        "from pyspark.ml import Pipeline\n",
        "from pyspark.sql.functions import isnan, when, count, col\n",
        "from pyspark.sql.types import DoubleType\n",
        "from pyspark.sql.types import IntegerType\n",
        "from pyspark.ml.evaluation import RegressionEvaluator\n",
        "from pyspark.ml.regression import GBTRegressor\n"
      ],
      "execution_count": 0,
      "outputs": []
    },
    {
      "metadata": {
        "id": "Hob5mxC6L18y",
        "colab_type": "code",
        "outputId": "ff60dc8d-b5ae-4506-9030-50a0ac5ea2f4",
        "colab": {
          "base_uri": "https://localhost:8080/",
          "height": 34
        }
      },
      "cell_type": "code",
      "source": [
        "df.filter((df[\"ValueRatio\"] == \"\") | df[\"ValueRatio\"].isNull() | isnan(df[\"ValueRatio\"])).count()"
      ],
      "execution_count": 0,
      "outputs": [
        {
          "output_type": "execute_result",
          "data": {
            "text/plain": [
              "35"
            ]
          },
          "metadata": {
            "tags": []
          },
          "execution_count": 61
        }
      ]
    },
    {
      "metadata": {
        "id": "aB9CR6GZLWEE",
        "colab_type": "code",
        "colab": {}
      },
      "cell_type": "code",
      "source": [
        "df = spark.read.csv('cleaned_2016.csv',inferSchema = True, header =True)\n",
        "#df.printSchema()"
      ],
      "execution_count": 0,
      "outputs": []
    },
    {
      "metadata": {
        "id": "hgYF-asGMA7Q",
        "colab_type": "code",
        "colab": {}
      },
      "cell_type": "code",
      "source": [
        "\n",
        "df = df.withColumn(\"regionidzip\", df[\"regionidzip\"].cast(IntegerType()))\n",
        "df = df.withColumn(\"ValueRatio\", df[\"regionidzip\"].cast(DoubleType()))\n"
      ],
      "execution_count": 0,
      "outputs": []
    },
    {
      "metadata": {
        "id": "u8jVuwYcOqyk",
        "colab_type": "code",
        "outputId": "5592518e-6972-4f8b-f577-73ea4cd4df50",
        "colab": {
          "base_uri": "https://localhost:8080/",
          "height": 1479
        }
      },
      "cell_type": "code",
      "source": [
        "df.printSchema()"
      ],
      "execution_count": 0,
      "outputs": [
        {
          "output_type": "stream",
          "text": [
            "root\n",
            " |-- parcelid: integer (nullable = true)\n",
            " |-- logerror: double (nullable = true)\n",
            " |-- airconditioningtypeid: double (nullable = true)\n",
            " |-- architecturalstyletypeid: double (nullable = true)\n",
            " |-- basementsqft: double (nullable = true)\n",
            " |-- bathroomcnt: double (nullable = true)\n",
            " |-- bedroomcnt: double (nullable = true)\n",
            " |-- buildingclasstypeid: double (nullable = true)\n",
            " |-- buildingqualitytypeid: double (nullable = true)\n",
            " |-- calculatedbathnbr: double (nullable = true)\n",
            " |-- finishedfloor1squarefeet: double (nullable = true)\n",
            " |-- calculatedfinishedsquarefeet: double (nullable = true)\n",
            " |-- finishedsquarefeet12: double (nullable = true)\n",
            " |-- finishedsquarefeet13: double (nullable = true)\n",
            " |-- finishedsquarefeet15: double (nullable = true)\n",
            " |-- finishedsquarefeet50: double (nullable = true)\n",
            " |-- finishedsquarefeet6: double (nullable = true)\n",
            " |-- fips: double (nullable = true)\n",
            " |-- fireplacecnt: double (nullable = true)\n",
            " |-- fullbathcnt: double (nullable = true)\n",
            " |-- garagecarcnt: double (nullable = true)\n",
            " |-- garagetotalsqft: double (nullable = true)\n",
            " |-- hashottuborspa: integer (nullable = true)\n",
            " |-- heatingorsystemtypeid: double (nullable = true)\n",
            " |-- latitude: double (nullable = true)\n",
            " |-- longitude: double (nullable = true)\n",
            " |-- lotsizesquarefeet: double (nullable = true)\n",
            " |-- poolcnt: double (nullable = true)\n",
            " |-- poolsizesum: double (nullable = true)\n",
            " |-- pooltypeid10: integer (nullable = true)\n",
            " |-- pooltypeid2: double (nullable = true)\n",
            " |-- pooltypeid7: integer (nullable = true)\n",
            " |-- propertycountylandusecode: string (nullable = true)\n",
            " |-- propertylandusetypeid: double (nullable = true)\n",
            " |-- propertyzoningdesc: string (nullable = true)\n",
            " |-- rawcensustractandblock: double (nullable = true)\n",
            " |-- regionidcity: string (nullable = true)\n",
            " |-- regionidcounty: double (nullable = true)\n",
            " |-- regionidneighborhood: string (nullable = true)\n",
            " |-- regionidzip: integer (nullable = true)\n",
            " |-- roomcnt: double (nullable = true)\n",
            " |-- storytypeid: double (nullable = true)\n",
            " |-- threequarterbathnbr: double (nullable = true)\n",
            " |-- typeconstructiontypeid: double (nullable = true)\n",
            " |-- unitcnt: double (nullable = true)\n",
            " |-- yardbuildingsqft17: double (nullable = true)\n",
            " |-- yardbuildingsqft26: double (nullable = true)\n",
            " |-- yearbuilt: double (nullable = true)\n",
            " |-- numberofstories: double (nullable = true)\n",
            " |-- fireplaceflag: integer (nullable = true)\n",
            " |-- structuretaxvaluedollarcnt: double (nullable = true)\n",
            " |-- taxvaluedollarcnt: double (nullable = true)\n",
            " |-- assessmentyear: double (nullable = true)\n",
            " |-- landtaxvaluedollarcnt: double (nullable = true)\n",
            " |-- taxamount: double (nullable = true)\n",
            " |-- taxdelinquencyflag: integer (nullable = true)\n",
            " |-- taxdelinquencyyear: double (nullable = true)\n",
            " |-- censustractandblock: double (nullable = true)\n",
            " |-- transaction_month: integer (nullable = true)\n",
            " |-- transaction_day: integer (nullable = true)\n",
            " |-- house_age: double (nullable = true)\n",
            " |-- tot_rooms: double (nullable = true)\n",
            " |-- AC: integer (nullable = true)\n",
            " |-- deck: integer (nullable = true)\n",
            " |-- heating_system: integer (nullable = true)\n",
            " |-- garage: integer (nullable = true)\n",
            " |-- patio: integer (nullable = true)\n",
            " |-- pooltypei2: integer (nullable = true)\n",
            " |-- pool: boolean (nullable = true)\n",
            " |-- exquisite: integer (nullable = true)\n",
            " |-- x_loc: double (nullable = true)\n",
            " |-- y_loc: double (nullable = true)\n",
            " |-- z_loc: double (nullable = true)\n",
            " |-- season: integer (nullable = true)\n",
            " |-- weekday_trans: integer (nullable = true)\n",
            " |-- LivingArea: string (nullable = true)\n",
            " |-- LivingArea_2: string (nullable = true)\n",
            " |-- ExtraSpace: double (nullable = true)\n",
            " |-- ExtraSpace-2: double (nullable = true)\n",
            " |-- ValueRatio: double (nullable = true)\n",
            " |-- TaxScore: double (nullable = true)\n",
            " |-- zip_count: integer (nullable = true)\n",
            " |-- city_count: integer (nullable = true)\n",
            " |-- county_count: integer (nullable = true)\n",
            "\n"
          ],
          "name": "stdout"
        }
      ]
    },
    {
      "metadata": {
        "id": "GTosa4y0t2Xk",
        "colab_type": "code",
        "colab": {}
      },
      "cell_type": "code",
      "source": [
        "vec_assembler = VectorAssembler(inputCols=['latitude',\"landtaxvaluedollarcnt\",'season','yearbuilt','bathroomcnt','regionidzip',\"landtaxvaluedollarcnt\",'censustractandblock','propertylandusetypeid','lotsizesquarefeet','house_age','bedroomcnt'], outputCol=\"features\")\n"
      ],
      "execution_count": 0,
      "outputs": []
    },
    {
      "metadata": {
        "id": "1CZcerGgVuOW",
        "colab_type": "text"
      },
      "cell_type": "markdown",
      "source": [
        "'taxamount','ValueRatio',\"structuretaxvaluedollarcnt\",\"landtaxvaluedollarcnt\",\"TaxScore\""
      ]
    },
    {
      "metadata": {
        "id": "gMu6ywibyn-k",
        "colab_type": "code",
        "outputId": "bfb484b1-ae27-4831-af99-18becc1d218f",
        "colab": {
          "base_uri": "https://localhost:8080/",
          "height": 34
        }
      },
      "cell_type": "code",
      "source": [
        "vec_assembler"
      ],
      "execution_count": 0,
      "outputs": [
        {
          "output_type": "execute_result",
          "data": {
            "text/plain": [
              "VectorAssembler_b32fced7cd2c"
            ]
          },
          "metadata": {
            "tags": []
          },
          "execution_count": 204
        }
      ]
    },
    {
      "metadata": {
        "id": "JlrBOimk0N_L",
        "colab_type": "code",
        "colab": {}
      },
      "cell_type": "code",
      "source": [
        "linregout = vec_assembler.setHandleInvalid(\"skip\").transform(df)"
      ],
      "execution_count": 0,
      "outputs": []
    },
    {
      "metadata": {
        "id": "GPIbULDE06fO",
        "colab_type": "code",
        "colab": {}
      },
      "cell_type": "code",
      "source": [
        "linreg_f = linregout.select(\"features\",\"taxvaluedollarcnt\")"
      ],
      "execution_count": 0,
      "outputs": []
    },
    {
      "metadata": {
        "id": "muR7PXKDCrN1",
        "colab_type": "code",
        "outputId": "e44c0ff5-fa98-4575-99e1-a8678ab5d0df",
        "colab": {
          "base_uri": "https://localhost:8080/",
          "height": 459
        }
      },
      "cell_type": "code",
      "source": [
        "linreg_f.show()"
      ],
      "execution_count": 0,
      "outputs": [
        {
          "output_type": "stream",
          "text": [
            "+--------------------+-----------------+\n",
            "|            features|taxvaluedollarcnt|\n",
            "+--------------------+-----------------+\n",
            "|[3.428099E7,23741...|         360170.0|\n",
            "|[3.4136312E7,5791...|         119906.0|\n",
            "|[3.37558E7,73362....|         244880.0|\n",
            "|[3.3485643E7,2649...|         434551.0|\n",
            "|[3.3870089E7,1567...|        2447951.0|\n",
            "|[3.3899475E7,4697...|         111521.0|\n",
            "|[3.4207204E7,1990...|         306000.0|\n",
            "|[3.35496E7,143230...|         210064.0|\n",
            "|[3.36127E7,80983....|         190960.0|\n",
            "|[3.4164671E7,5055...|         105954.0|\n",
            "|[3.407222E7,53108...|        1090127.0|\n",
            "|[3.4189804E7,4056...|          70119.0|\n",
            "|[3.36709E7,202253...|         601000.0|\n",
            "|[3.3913333E7,1762...|         254817.0|\n",
            "|[3.3676787E7,2551...|         345023.0|\n",
            "|[3.4176362E7,3120...|         480000.0|\n",
            "|[3.37764E7,14083....|          70316.0|\n",
            "|[3.3770148E7,1780...|         253138.0|\n",
            "|[3.4164085E7,3072...|         416279.0|\n",
            "|[3.3858594E7,1372...|         260249.0|\n",
            "+--------------------+-----------------+\n",
            "only showing top 20 rows\n",
            "\n"
          ],
          "name": "stdout"
        }
      ]
    },
    {
      "metadata": {
        "id": "39McUe940chE",
        "colab_type": "code",
        "colab": {}
      },
      "cell_type": "code",
      "source": [
        "training, test = linreg_f.randomSplit([0.8,0.2])"
      ],
      "execution_count": 0,
      "outputs": []
    },
    {
      "metadata": {
        "id": "kjqqKX9S11Kg",
        "colab_type": "code",
        "colab": {}
      },
      "cell_type": "code",
      "source": [
        "\n",
        "linreg = LinearRegression(featuresCol = 'features', labelCol = 'taxvaluedollarcnt')"
      ],
      "execution_count": 0,
      "outputs": []
    },
    {
      "metadata": {
        "id": "BVbPfKaA2T37",
        "colab_type": "code",
        "colab": {}
      },
      "cell_type": "code",
      "source": [
        "linreg = linreg.fit(training)"
      ],
      "execution_count": 0,
      "outputs": []
    },
    {
      "metadata": {
        "id": "OeLh23Fq2aIz",
        "colab_type": "code",
        "outputId": "932868a3-8f81-4f13-852e-4387808d976f",
        "colab": {
          "base_uri": "https://localhost:8080/",
          "height": 459
        }
      },
      "cell_type": "code",
      "source": [
        "linpred = linreg.evaluate(test)\n",
        "linpred.predictions.show()"
      ],
      "execution_count": 0,
      "outputs": [
        {
          "output_type": "stream",
          "text": [
            "+--------------------+-----------------+------------------+\n",
            "|            features|taxvaluedollarcnt|        prediction|\n",
            "+--------------------+-----------------+------------------+\n",
            "|[3.3340045E7,2447...|         545689.0|307768.25000008056|\n",
            "|[3.3340937E7,5048...|         841483.0|  633742.890399165|\n",
            "|[3.3400699E7,4332...|         151198.0|117141.75803738972|\n",
            "|[3.3401249E7,2073...|         289911.0|302774.57267815573|\n",
            "|[3.34074E7,85157....|         177418.0|133837.57197393104|\n",
            "|[3.3408179E7,1916...|        2300000.0|  2531503.71356121|\n",
            "|[3.3409415E7,4345...|         170870.0|116892.18593838718|\n",
            "|[3.3410986E7,6885...|         933547.0|1005762.7720437376|\n",
            "|[3.3412124E7,3213...|         426276.0|507640.06756739784|\n",
            "|[3.3415205E7,4944...|         102039.0|130175.43674833188|\n",
            "|[3.3416144E7,8571...|        1525391.0|1307335.1066968888|\n",
            "|[3.3416775E7,6700...|         798970.0|  954189.612486517|\n",
            "|[3.3417686E7,6075...|         886288.0| 883344.9265224049|\n",
            "|[3.3417795E7,9731...|         110941.0|168639.03250959935|\n",
            "|[3.3425517E7,2156...|         329206.0|387067.52087844023|\n",
            "|[3.3425517E7,2757...|         393354.0| 460457.4818006675|\n",
            "|[3.3426467E7,6696...|          92108.0| 64345.30841725459|\n",
            "|[3.3430979E7,2676...|         354728.0| 387999.2106029247|\n",
            "|[3.3434457E7,7199...|        1047177.0|1081044.6362109333|\n",
            "|[3.3438694E7,4679...|         591353.0| 652834.4904413959|\n",
            "+--------------------+-----------------+------------------+\n",
            "only showing top 20 rows\n",
            "\n"
          ],
          "name": "stdout"
        }
      ]
    },
    {
      "metadata": {
        "id": "DJytey003AlQ",
        "colab_type": "code",
        "outputId": "bc71a31a-36fa-4182-ed35-df2130ee8c28",
        "colab": {
          "base_uri": "https://localhost:8080/",
          "height": 85
        }
      },
      "cell_type": "code",
      "source": [
        "eval = RegressionEvaluator(labelCol=\"taxvaluedollarcnt\", predictionCol=\"prediction\", metricName=\"rmse\")\n",
        "# Root Mean Square Error\n",
        "rmse = eval.evaluate(linpred.predictions)\n",
        "print(\"RMSE: %.3f\" % rmse)\n",
        "# Mean Square Error\n",
        "mse = eval.evaluate(linpred.predictions, {eval.metricName: \"mse\"})\n",
        "print(\"MSE: %.3f\" % mse)\n",
        "# Mean Absolute Error\n",
        "mae = eval.evaluate(linpred.predictions, {eval.metricName: \"mae\"})\n",
        "print(\"MAE: %.3f\" % mae)\n",
        "# r2 - coefficient of determination\n",
        "r2 = eval.evaluate(linpred.predictions, {eval.metricName: \"r2\"})\n",
        "print(\"r2: %.3f\" %r2)"
      ],
      "execution_count": 0,
      "outputs": [
        {
          "output_type": "stream",
          "text": [
            "RMSE: 127931.821\n",
            "MSE: 16366550885.618\n",
            "MAE: 71732.796\n",
            "r2: 0.945\n"
          ],
          "name": "stdout"
        }
      ]
    },
    {
      "metadata": {
        "id": "zUPFW8XT3V8W",
        "colab_type": "code",
        "colab": {}
      },
      "cell_type": "code",
      "source": [
        ""
      ],
      "execution_count": 0,
      "outputs": []
    },
    {
      "metadata": {
        "id": "fQZnrpxhByp7",
        "colab_type": "code",
        "colab": {}
      },
      "cell_type": "code",
      "source": [
        ""
      ],
      "execution_count": 0,
      "outputs": []
    },
    {
      "metadata": {
        "id": "KTr6ymqPCKGN",
        "colab_type": "code",
        "colab": {}
      },
      "cell_type": "code",
      "source": [
        "# Initialize model with columns to utilize\n",
        "rf = RandomForestRegressor(featuresCol=\"features\",\n",
        "                           labelCol=\"taxvaluedollarcnt\",\n",
        "                           predictionCol=\"Prediction\",\n",
        "                           seed=42\n",
        "                           )"
      ],
      "execution_count": 0,
      "outputs": []
    },
    {
      "metadata": {
        "id": "BZOhAJnkgjbh",
        "colab_type": "code",
        "colab": {}
      },
      "cell_type": "code",
      "source": [
        "modelreg = rf.fit(training)"
      ],
      "execution_count": 0,
      "outputs": []
    },
    {
      "metadata": {
        "id": "LiVnZaIVgmHA",
        "colab_type": "code",
        "colab": {}
      },
      "cell_type": "code",
      "source": [
        "predictions_rf = model.transform(test)"
      ],
      "execution_count": 0,
      "outputs": []
    },
    {
      "metadata": {
        "id": "zAaeKu_1gtcB",
        "colab_type": "code",
        "outputId": "ad20662f-c994-4402-8a1a-4d6ce2585b73",
        "colab": {
          "base_uri": "https://localhost:8080/",
          "height": 204
        }
      },
      "cell_type": "code",
      "source": [
        "predictions.select(\"Prediction\", \"taxvaluedollarcnt\").show(5)"
      ],
      "execution_count": 0,
      "outputs": [
        {
          "output_type": "stream",
          "text": [
            "+------------------+-----------------+\n",
            "|        Prediction|taxvaluedollarcnt|\n",
            "+------------------+-----------------+\n",
            "| 323648.6151672956|         545689.0|\n",
            "| 688971.2296311021|         841483.0|\n",
            "|167704.96113102607|         151198.0|\n",
            "| 319978.9816182234|         289911.0|\n",
            "| 208977.8719481871|         177418.0|\n",
            "+------------------+-----------------+\n",
            "only showing top 5 rows\n",
            "\n"
          ],
          "name": "stdout"
        }
      ]
    },
    {
      "metadata": {
        "id": "IKGxN2RSg3D5",
        "colab_type": "code",
        "outputId": "63cb5b36-8773-4c78-b3f6-999ed0d500b4",
        "colab": {
          "base_uri": "https://localhost:8080/",
          "height": 51
        }
      },
      "cell_type": "code",
      "source": [
        "# Select columns to compute test error\n",
        "evaluator = RegressionEvaluator(labelCol=\"taxvaluedollarcnt\", \n",
        "                                predictionCol=\"Prediction\")\n",
        "\n",
        "rmse = evaluator.evaluate(predictions, {evaluator.metricName: \"rmse\"})\n",
        "r2 = evaluator.evaluate(predictions, {evaluator.metricName: \"r2\"})\n",
        "# Print Model Metrics\n",
        "print('RMSE: ' + str(rmse))\n",
        "print('R^2: ' + str(r2))"
      ],
      "execution_count": 0,
      "outputs": [
        {
          "output_type": "stream",
          "text": [
            "RMSE: 253640.91110554672\n",
            "R^2: 0.7844872969912521\n"
          ],
          "name": "stdout"
        }
      ]
    },
    {
      "metadata": {
        "id": "c29jUAughoi3",
        "colab_type": "code",
        "colab": {}
      },
      "cell_type": "code",
      "source": [
        "# Train a Gradient Boosted Trees (GBT) model.\n",
        "gbt = GBTRegressor(featuresCol=\"features\",\n",
        "                           labelCol=\"taxvaluedollarcnt\",\n",
        "                           predictionCol=\"Prediction\",\n",
        "                           seed=42\n",
        "                           )\n",
        "\n",
        "# Train model.\n",
        "modelgbt = gbt.fit(training)\n"
      ],
      "execution_count": 0,
      "outputs": []
    },
    {
      "metadata": {
        "id": "ssQrOHVonbL0",
        "colab_type": "code",
        "outputId": "a780c25c-7fea-47ed-b2f3-efdd7f1871a9",
        "colab": {
          "base_uri": "https://localhost:8080/",
          "height": 204
        }
      },
      "cell_type": "code",
      "source": [
        "predictions_gbt = model.transform(test)\n",
        "predictions_gbt.select(\"Prediction_Price\", \"taxvaluedollarcnt\").show(5)\n"
      ],
      "execution_count": 0,
      "outputs": [
        {
          "output_type": "stream",
          "text": [
            "+------------------+-----------------+\n",
            "|  Prediction_Price|taxvaluedollarcnt|\n",
            "+------------------+-----------------+\n",
            "|343790.76194412855|         545689.0|\n",
            "|   621256.18789959|         841483.0|\n",
            "|  79931.2140980965|         151198.0|\n",
            "| 331401.0364094571|         289911.0|\n",
            "| 144093.9132617582|         177418.0|\n",
            "+------------------+-----------------+\n",
            "only showing top 5 rows\n",
            "\n"
          ],
          "name": "stdout"
        }
      ]
    },
    {
      "metadata": {
        "id": "QHkoQ2pjnKux",
        "colab_type": "code",
        "outputId": "fd868fdd-78b9-498a-ab83-ef9045b6c308",
        "colab": {
          "base_uri": "https://localhost:8080/",
          "height": 51
        }
      },
      "cell_type": "code",
      "source": [
        "# Select columns to compute test error\n",
        "evaluator = RegressionEvaluator(labelCol=\"taxvaluedollarcnt\", \n",
        "                                predictionCol=\"Prediction_Price\")\n",
        "\n",
        "rmse = evaluator.evaluate(predictions_gbt, {evaluator.metricName: \"rmse\"})\n",
        "r2 = evaluator.evaluate(predictions_gbt, {evaluator.metricName: \"r2\"})\n",
        "# Print Model Metrics\n",
        "print('RMSE: ' + str(rmse))\n",
        "print('R^2: ' + str(r2))"
      ],
      "execution_count": 0,
      "outputs": [
        {
          "output_type": "stream",
          "text": [
            "RMSE: 218101.3976445796\n",
            "R^2: 0.8406503323003021\n"
          ],
          "name": "stdout"
        }
      ]
    },
    {
      "metadata": {
        "id": "J8QklZevmHoM",
        "colab_type": "code",
        "outputId": "a7ba5f91-5216-43b5-fcb5-0e522a06de00",
        "colab": {
          "base_uri": "https://localhost:8080/",
          "height": 85
        }
      },
      "cell_type": "code",
      "source": [
        "# Select columns to compute test error\n",
        "evaluator = RegressionEvaluator(labelCol=\"taxvaluedollarcnt\", \n",
        "                                predictionCol=\"Prediction_Price\")\n",
        "# Dictionary of model predictions to loop over\n",
        "models = {'Gradient Boosted Trees': predictions_gbt, 'Random Forest Regression': predictions_rf}\n",
        "for key, preds in models.items():\n",
        "  # Create evaluation metrics\n",
        "  rmse = evaluator.evaluate(preds, {evaluator.metricName: \"rmse\"})\n",
        "  r2 = evaluator.evaluate(preds, {evaluator.metricName: \"r2\"})\n",
        "\n",
        "  # Print Model Metrics\n",
        "  print(key + ' RMSE: ' + str(rmse))\n",
        "  print(key + ' R^2: ' + str(r2))"
      ],
      "execution_count": 0,
      "outputs": [
        {
          "output_type": "stream",
          "text": [
            "Gradient Boosted Trees RMSE: 218101.3976445796\n",
            "Gradient Boosted Trees R^2: 0.8406503323003021\n",
            "Random Forest Regression RMSE: 218101.3976445796\n",
            "Random Forest Regression R^2: 0.8406503323003021\n"
          ],
          "name": "stdout"
        }
      ]
    },
    {
      "metadata": {
        "id": "HENYcyTMooiI",
        "colab_type": "code",
        "outputId": "2f801774-cdf0-45fc-c1b8-104049f850b4",
        "colab": {
          "base_uri": "https://localhost:8080/",
          "height": 359
        }
      },
      "cell_type": "code",
      "source": [
        "featuresCol = list(df.columns)\n",
        "fi_df = pd.DataFrame(modelgbt.featureImportances.toArray(), columns = [\"Importance\"])\n",
        "fi_df['Feature'] = pd.Series(featuresCol)\n",
        "fi_df.sort_values(by=[\"Importance\"], ascending=False, inplace=True)\n",
        "\n",
        "# Inspect Results\n",
        "fi_df.head(10)"
      ],
      "execution_count": 0,
      "outputs": [
        {
          "output_type": "execute_result",
          "data": {
            "text/html": [
              "<div>\n",
              "<style scoped>\n",
              "    .dataframe tbody tr th:only-of-type {\n",
              "        vertical-align: middle;\n",
              "    }\n",
              "\n",
              "    .dataframe tbody tr th {\n",
              "        vertical-align: top;\n",
              "    }\n",
              "\n",
              "    .dataframe thead th {\n",
              "        text-align: right;\n",
              "    }\n",
              "</style>\n",
              "<table border=\"1\" class=\"dataframe\">\n",
              "  <thead>\n",
              "    <tr style=\"text-align: right;\">\n",
              "      <th></th>\n",
              "      <th>Importance</th>\n",
              "      <th>Feature</th>\n",
              "    </tr>\n",
              "  </thead>\n",
              "  <tbody>\n",
              "    <tr>\n",
              "      <th>1</th>\n",
              "      <td>0.328538</td>\n",
              "      <td>logerror</td>\n",
              "    </tr>\n",
              "    <tr>\n",
              "      <th>4</th>\n",
              "      <td>0.175176</td>\n",
              "      <td>basementsqft</td>\n",
              "    </tr>\n",
              "    <tr>\n",
              "      <th>3</th>\n",
              "      <td>0.088986</td>\n",
              "      <td>architecturalstyletypeid</td>\n",
              "    </tr>\n",
              "    <tr>\n",
              "      <th>9</th>\n",
              "      <td>0.087383</td>\n",
              "      <td>calculatedbathnbr</td>\n",
              "    </tr>\n",
              "    <tr>\n",
              "      <th>0</th>\n",
              "      <td>0.069305</td>\n",
              "      <td>parcelid</td>\n",
              "    </tr>\n",
              "    <tr>\n",
              "      <th>7</th>\n",
              "      <td>0.052497</td>\n",
              "      <td>buildingclasstypeid</td>\n",
              "    </tr>\n",
              "    <tr>\n",
              "      <th>10</th>\n",
              "      <td>0.050870</td>\n",
              "      <td>finishedfloor1squarefeet</td>\n",
              "    </tr>\n",
              "    <tr>\n",
              "      <th>5</th>\n",
              "      <td>0.050736</td>\n",
              "      <td>bathroomcnt</td>\n",
              "    </tr>\n",
              "    <tr>\n",
              "      <th>11</th>\n",
              "      <td>0.036420</td>\n",
              "      <td>calculatedfinishedsquarefeet</td>\n",
              "    </tr>\n",
              "    <tr>\n",
              "      <th>8</th>\n",
              "      <td>0.033127</td>\n",
              "      <td>buildingqualitytypeid</td>\n",
              "    </tr>\n",
              "  </tbody>\n",
              "</table>\n",
              "</div>"
            ],
            "text/plain": [
              "    Importance                       Feature\n",
              "1     0.328538                      logerror\n",
              "4     0.175176                  basementsqft\n",
              "3     0.088986      architecturalstyletypeid\n",
              "9     0.087383             calculatedbathnbr\n",
              "0     0.069305                      parcelid\n",
              "7     0.052497           buildingclasstypeid\n",
              "10    0.050870      finishedfloor1squarefeet\n",
              "5     0.050736                   bathroomcnt\n",
              "11    0.036420  calculatedfinishedsquarefeet\n",
              "8     0.033127         buildingqualitytypeid"
            ]
          },
          "metadata": {
            "tags": []
          },
          "execution_count": 275
        }
      ]
    }
  ]
}