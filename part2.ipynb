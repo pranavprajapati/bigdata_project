{
  "cells": [
    {
      "cell_type": "code",
      "source": [
        "import pandas as pd\n",
        "import os\n",
        "import glob\n",
        "import numpy as np\n",
        "import matplotlib.pyplot\n",
        "from datetime import datetime"
      ],
      "outputs": [],
      "execution_count": 48,
      "metadata": {
        "collapsed": false,
        "outputHidden": false,
        "inputHidden": false
      }
    },
    {
      "cell_type": "code",
      "source": [
        "print(glob.glob('/Users/pranavprajapati/Desktop/Projects_2019/price_prediction/data/datab*.csv'))\n"
      ],
      "outputs": [
        {
          "output_type": "stream",
          "name": "stdout",
          "text": [
            "['/Users/pranavprajapati/Desktop/Projects_2019/price_prediction/data/databed4.csv', '/Users/pranavprajapati/Desktop/Projects_2019/price_prediction/data/databed2.csv', '/Users/pranavprajapati/Desktop/Projects_2019/price_prediction/data/databed3.csv', '/Users/pranavprajapati/Desktop/Projects_2019/price_prediction/data/databed1.csv', '/Users/pranavprajapati/Desktop/Projects_2019/price_prediction/data/databed0.csv']\n"
          ]
        }
      ],
      "execution_count": 3,
      "metadata": {
        "collapsed": false,
        "outputHidden": false,
        "inputHidden": false
      }
    },
    {
      "cell_type": "code",
      "source": [
        "filenames = glob.glob('/Users/pranavprajapati/Desktop/Projects_2019/price_prediction/data/datab*.csv')"
      ],
      "outputs": [],
      "execution_count": 4,
      "metadata": {
        "collapsed": false,
        "outputHidden": false,
        "inputHidden": false
      }
    },
    {
      "cell_type": "code",
      "source": [
        "del data2016"
      ],
      "outputs": [],
      "execution_count": 38,
      "metadata": {
        "collapsed": false,
        "outputHidden": false,
        "inputHidden": false
      }
    },
    {
      "cell_type": "code",
      "source": [
        "li = []\n",
        "\n",
        "for filename in filenames:\n",
        "    df = pd.read_csv(filename, index_col=None, header=0)\n",
        "    li.append(df)\n",
        "\n",
        "data2016 = pd.concat(li, axis=0, ignore_index=True)"
      ],
      "outputs": [],
      "execution_count": 40,
      "metadata": {
        "collapsed": false,
        "outputHidden": false,
        "inputHidden": false
      }
    },
    {
      "cell_type": "code",
      "source": [
        "data2016.isnull().sum()"
      ],
      "outputs": [
        {
          "output_type": "execute_result",
          "execution_count": 41,
          "data": {
            "text/plain": [
              "room_id                      0\n",
              "host_id                      0\n",
              "room_type                    0\n",
              "borough                      0\n",
              "neighborhood                 0\n",
              "reviews                      0\n",
              "overall_satisfaction    148698\n",
              "accommodates             10764\n",
              "bedrooms                     0\n",
              "price                        0\n",
              "minstay                   7686\n",
              "latitude                     0\n",
              "longitude                    0\n",
              "last_modified                0\n",
              "dtype: int64"
            ]
          },
          "metadata": {}
        }
      ],
      "execution_count": 41,
      "metadata": {
        "collapsed": false,
        "outputHidden": false,
        "inputHidden": false
      }
    },
    {
      "cell_type": "code",
      "source": [
        "data2016['last_modified']= pd.to_datetime(data2016['last_modified'])\n",
        "data2016['last_modified'] = data2016['last_modified'].dt.strftime('%Y-%m-%d')"
      ],
      "outputs": [],
      "execution_count": 43,
      "metadata": {
        "collapsed": false,
        "outputHidden": false,
        "inputHidden": false
      }
    },
    {
      "cell_type": "code",
      "source": [
        "data2016.overall_satisfaction.value_counts(dropna=False)"
      ],
      "outputs": [
        {
          "output_type": "execute_result",
          "execution_count": 50,
          "data": {
            "text/plain": [
              "5.0    110869\n",
              "4.5     98221\n",
              "4.0     22458\n",
              "3.5      4075\n",
              "3.0      1622\n",
              "2.0       318\n",
              "2.5       302\n",
              "1.0       195\n",
              "1.5        21\n",
              "Name: overall_satisfaction, dtype: int64"
            ]
          },
          "metadata": {}
        }
      ],
      "execution_count": 50,
      "metadata": {
        "collapsed": false,
        "outputHidden": false,
        "inputHidden": false
      }
    },
    {
      "cell_type": "code",
      "source": [
        "data2016 = data2016[np.isfinite(data2016['overall_satisfaction'])]"
      ],
      "outputs": [],
      "execution_count": 49,
      "metadata": {
        "collapsed": false,
        "outputHidden": false,
        "inputHidden": false
      }
    },
    {
      "cell_type": "code",
      "source": [
        "data2016.room_type.value_counts(dropna=False)"
      ],
      "outputs": [
        {
          "output_type": "execute_result",
          "execution_count": 52,
          "data": {
            "text/plain": [
              "Entire home/apt    129837\n",
              "Private room       101219\n",
              "Shared room          7025\n",
              "Name: room_type, dtype: int64"
            ]
          },
          "metadata": {}
        }
      ],
      "execution_count": 52,
      "metadata": {
        "collapsed": false,
        "outputHidden": false,
        "inputHidden": false
      }
    },
    {
      "cell_type": "code",
      "source": [
        "data2016.to_csv('data_2016.csv',index=False)"
      ],
      "outputs": [],
      "execution_count": 53,
      "metadata": {
        "collapsed": false,
        "outputHidden": true,
        "inputHidden": false
      }
    },
    {
      "cell_type": "code",
      "source": [],
      "outputs": [],
      "execution_count": null,
      "metadata": {
        "collapsed": false,
        "outputHidden": false,
        "inputHidden": false
      }
    }
  ],
  "metadata": {
    "kernel_info": {
      "name": "python3"
    },
    "language_info": {
      "name": "python",
      "version": "3.7.1",
      "mimetype": "text/x-python",
      "codemirror_mode": {
        "name": "ipython",
        "version": 3
      },
      "pygments_lexer": "ipython3",
      "nbconvert_exporter": "python",
      "file_extension": ".py"
    },
    "kernelspec": {
      "name": "python3",
      "language": "python",
      "display_name": "Python 3"
    },
    "nteract": {
      "version": "0.14.0"
    }
  },
  "nbformat": 4,
  "nbformat_minor": 0
}