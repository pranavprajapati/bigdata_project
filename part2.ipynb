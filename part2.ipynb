{
  "cells": [
    {
      "cell_type": "code",
      "source": [
        "import pandas as pd\n",
        "import os\n",
        "import glob\n",
        "import numpy\n",
        "import matplotlib.pyplot\n",
        "from datetime import datetime"
      ],
      "outputs": [],
      "execution_count": 9,
      "metadata": {
        "collapsed": false,
        "outputHidden": false,
        "inputHidden": false
      }
    },
    {
      "cell_type": "code",
      "source": [
        "print(glob.glob('/Users/pranavprajapati/Desktop/Projects_2019/price_prediction/data/datab*.csv'))\n"
      ],
      "outputs": [
        {
          "output_type": "stream",
          "name": "stdout",
          "text": [
            "['/Users/pranavprajapati/Desktop/Projects_2019/price_prediction/data/databed4.csv', '/Users/pranavprajapati/Desktop/Projects_2019/price_prediction/data/databed2.csv', '/Users/pranavprajapati/Desktop/Projects_2019/price_prediction/data/databed3.csv', '/Users/pranavprajapati/Desktop/Projects_2019/price_prediction/data/databed1.csv', '/Users/pranavprajapati/Desktop/Projects_2019/price_prediction/data/databed0.csv']\n"
          ]
        }
      ],
      "execution_count": 3,
      "metadata": {
        "collapsed": false,
        "outputHidden": false,
        "inputHidden": false
      }
    },
    {
      "cell_type": "code",
      "source": [
        "filenames = glob.glob('/Users/pranavprajapati/Desktop/Projects_2019/price_prediction/data/datab*.csv')"
      ],
      "outputs": [],
      "execution_count": 4,
      "metadata": {
        "collapsed": false,
        "outputHidden": false,
        "inputHidden": false
      }
    },
    {
      "cell_type": "code",
      "source": [
        "li = []\n",
        "\n",
        "for filename in filenames:\n",
        "    df = pd.read_csv(filename, index_col=None, header=0)\n",
        "    li.append(df)\n",
        "\n",
        "data2016 = pd.concat(li, axis=0, ignore_index=True)"
      ],
      "outputs": [],
      "execution_count": 5,
      "metadata": {
        "collapsed": false,
        "outputHidden": false,
        "inputHidden": false
      }
    },
    {
      "cell_type": "code",
      "source": [
        "data2016.isnull().sum()"
      ],
      "outputs": [
        {
          "output_type": "execute_result",
          "execution_count": 27,
          "data": {
            "text/plain": [
              "room_id                     0\n",
              "host_id                     0\n",
              "room_type                   0\n",
              "borough                     0\n",
              "neighborhood                0\n",
              "reviews                     0\n",
              "overall_satisfaction        0\n",
              "accommodates            10764\n",
              "bedrooms                    0\n",
              "price                       0\n",
              "minstay                  7686\n",
              "latitude                    0\n",
              "longitude                   0\n",
              "last_modified               0\n",
              "dtype: int64"
            ]
          },
          "metadata": {}
        }
      ],
      "execution_count": 27,
      "metadata": {
        "collapsed": false,
        "outputHidden": false,
        "inputHidden": false
      }
    },
    {
      "cell_type": "code",
      "source": [
        "data2016['last_modified']= pd.to_datetime(data2016['last_modified'])\n",
        "data2016['last_modified'] = data2016['last_modified'].dt.strftime('%Y-%m-%d')"
      ],
      "outputs": [],
      "execution_count": 10,
      "metadata": {
        "collapsed": false,
        "outputHidden": false,
        "inputHidden": false
      }
    },
    {
      "cell_type": "code",
      "source": [
        "data2016.overall_satisfaction.value_counts(dropna=False)"
      ],
      "outputs": [
        {
          "output_type": "execute_result",
          "execution_count": 11,
          "data": {
            "text/plain": [
              "NaN     148698\n",
              " 5.0    110869\n",
              " 4.5     98221\n",
              " 4.0     22458\n",
              " 3.5      4075\n",
              " 3.0      1622\n",
              " 2.0       318\n",
              " 2.5       302\n",
              " 1.0       195\n",
              " 1.5        21\n",
              "Name: overall_satisfaction, dtype: int64"
            ]
          },
          "metadata": {}
        }
      ],
      "execution_count": 11,
      "metadata": {
        "collapsed": false,
        "outputHidden": false,
        "inputHidden": false
      }
    },
    {
      "cell_type": "code",
      "source": [
        "data2016.borough.value_counts(dropna=False)"
      ],
      "outputs": [
        {
          "output_type": "execute_result",
          "execution_count": 12,
          "data": {
            "text/plain": [
              "Manhattan        189363\n",
              "Brooklyn         156073\n",
              "Queens            33704\n",
              "Bronx              5519\n",
              "Staten Island      2120\n",
              "Name: borough, dtype: int64"
            ]
          },
          "metadata": {}
        }
      ],
      "execution_count": 12,
      "metadata": {
        "collapsed": false,
        "outputHidden": false,
        "inputHidden": false
      }
    },
    {
      "cell_type": "code",
      "source": [
        "meansat = data2016['overall_satisfaction'].mean()\n",
        "data2016['overall_satisfaction'] = data2016['overall_satisfaction'].fillna(meansat)"
      ],
      "outputs": [],
      "execution_count": 24,
      "metadata": {
        "collapsed": false,
        "outputHidden": false,
        "inputHidden": false
      }
    },
    {
      "cell_type": "code",
      "source": [
        "data2016.overall_satisfaction.value_counts(dropna=False)"
      ],
      "outputs": [
        {
          "output_type": "execute_result",
          "execution_count": 26,
          "data": {
            "text/plain": [
              "4.649332    148698\n",
              "5.000000    110869\n",
              "4.500000     98221\n",
              "4.000000     22458\n",
              "3.500000      4075\n",
              "3.000000      1622\n",
              "2.000000       318\n",
              "2.500000       302\n",
              "1.000000       195\n",
              "1.500000        21\n",
              "Name: overall_satisfaction, dtype: int64"
            ]
          },
          "metadata": {}
        }
      ],
      "execution_count": 26,
      "metadata": {
        "collapsed": false,
        "outputHidden": false,
        "inputHidden": false
      }
    },
    {
      "cell_type": "code",
      "source": [
        "data2016.to_csv('data_2016.csv',index=False)"
      ],
      "outputs": [],
      "execution_count": 29,
      "metadata": {
        "collapsed": false,
        "outputHidden": true,
        "inputHidden": false
      }
    },
    {
      "cell_type": "code",
      "source": [],
      "outputs": [],
      "execution_count": null,
      "metadata": {
        "collapsed": false,
        "outputHidden": false,
        "inputHidden": false
      }
    }
  ],
  "metadata": {
    "kernel_info": {
      "name": "python3"
    },
    "language_info": {
      "name": "python",
      "version": "3.7.1",
      "mimetype": "text/x-python",
      "codemirror_mode": {
        "name": "ipython",
        "version": 3
      },
      "pygments_lexer": "ipython3",
      "nbconvert_exporter": "python",
      "file_extension": ".py"
    },
    "kernelspec": {
      "name": "python3",
      "language": "python",
      "display_name": "Python 3"
    },
    "nteract": {
      "version": "0.14.0"
    }
  },
  "nbformat": 4,
  "nbformat_minor": 0
}