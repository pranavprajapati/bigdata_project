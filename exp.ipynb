{
  "cells": [
    {
      "cell_type": "code",
      "source": [
        "\n",
        "import numpy as np # linear algebra\n",
        "import pandas as pd # data processing, CSV file I/O (e.g. pd.read_csv)\n",
        "import seaborn as sns\n"
      ],
      "outputs": [],
      "execution_count": 230,
      "metadata": {
        "_cell_guid": "6f5de30f-0adb-44ea-9ae2-dd1dee97b08c",
        "_uuid": "cc3f6d9e26bc780aeedf00272254d60c9a7c6aae",
        "collapsed": true
      }
    },
    {
      "cell_type": "code",
      "source": [
        "train_df = pd.read_csv(\"/Users/pranavprajapati/Downloads/zillow-prize-1/train_2016_v2.csv\")\n",
        "\n",
        "prop_df = pd.read_csv(\"/Users/pranavprajapati/Downloads/zillow-prize-1/properties_2016.csv\")\n",
        "samp = pd.read_csv(\"/Users/pranavprajapati/Downloads/zillow-prize-1/sample_submission.csv\")\n"
      ],
      "outputs": [
        {
          "output_type": "stream",
          "name": "stderr",
          "text": [
            "/Users/pranavprajapati/anaconda3/lib/python3.7/site-packages/IPython/core/interactiveshell.py:3020: DtypeWarning: Columns (22,32,34,49,55) have mixed types. Specify dtype option on import or set low_memory=False.\n",
            "  interactivity=interactivity, compiler=compiler, result=result)\n"
          ]
        }
      ],
      "execution_count": 231,
      "metadata": {
        "collapsed": false,
        "outputHidden": false,
        "inputHidden": false
      }
    },
    {
      "cell_type": "markdown",
      "source": [
        "print(train_df.columns)\n",
        "print(prop_df.columns)\n",
        "print(train_df.shape)\n",
        "print(prop_df.shape)"
      ],
      "metadata": {}
    },
    {
      "cell_type": "markdown",
      "source": [
        "First, let us merge both these columns based on their '**parcel_id**' and then we can perform our analysis."
      ],
      "metadata": {
        "_cell_guid": "43852cd8-d0c6-4a81-94ab-30f0da73c797",
        "_uuid": "7ca28b34c798b87d7e84e0948be024071d647ec7"
      }
    },
    {
      "cell_type": "code",
      "source": [
        "train_df = pd.merge(train_df, prop_df, on='parcelid', how='left')"
      ],
      "outputs": [],
      "execution_count": 232,
      "metadata": {
        "_cell_guid": "c3fdb2f2-c11d-428a-b387-70394fba9b12",
        "_uuid": "15a6b8bcc6610bd138831801dd2fdd2e74b7ecc8",
        "collapsed": true
      }
    },
    {
      "cell_type": "code",
      "source": [
        "#train_df['logerror']"
      ],
      "outputs": [],
      "execution_count": 233,
      "metadata": {
        "collapsed": false,
        "outputHidden": false,
        "inputHidden": false
      }
    },
    {
      "cell_type": "markdown",
      "source": [
        "***1. COLUMNS WITH NON-VARIANCE***\n",
        "\n",
        "We have quite a lot of columns. Let us see if any of them have only **ONE distinct** value, so that they can be dropped."
      ],
      "metadata": {
        "_cell_guid": "1e30541b-3504-4f20-96a3-68442cc837dd",
        "_uuid": "f4e8c607477389cf55f727278984b7dddbf48c1f"
      }
    },
    {
      "cell_type": "code",
      "source": [
        "count = 0\n",
        "for c in list(train_df):\n",
        "    if (len(train_df[c].unique()) == 1):\n",
        "        print(c)\n",
        "        count+=1\n",
        "print(count)"
      ],
      "outputs": [
        {
          "output_type": "stream",
          "name": "stdout",
          "text": [
            "assessmentyear\n",
            "1\n"
          ]
        }
      ],
      "execution_count": 234,
      "metadata": {
        "_cell_guid": "adbc5b8d-9743-4ddc-95e0-e11eaf9aaa04",
        "_uuid": "b67228095a6044c395677987323853ac4204faf8",
        "collapsed": true
      }
    },
    {
      "cell_type": "markdown",
      "source": [
        "Let us see if there are any columns having less than 1% of unique values."
      ],
      "metadata": {
        "_cell_guid": "d7984f82-ad3e-4958-99cc-37968fa07297",
        "_uuid": "f078314867c0d6a19d78b40b2981c2048c98d2e4"
      }
    },
    {
      "cell_type": "code",
      "source": [
        "count = 0\n",
        "low_var_cols = []\n",
        "for c in list(train_df):\n",
        "    if (len(train_df[c].unique()) < 907):\n",
        "        #print(c)\n",
        "        low_var_cols.append(c)\n",
        "        count+=1\n",
        "print(count)"
      ],
      "outputs": [
        {
          "output_type": "stream",
          "name": "stdout",
          "text": [
            "43\n"
          ]
        }
      ],
      "execution_count": 235,
      "metadata": {
        "_cell_guid": "d74be03c-6675-46fc-b978-5d6717d99c57",
        "_uuid": "51fdcd87b452d0bd7d5af87d2e1b33a4d3836213",
        "collapsed": true
      }
    },
    {
      "cell_type": "markdown",
      "source": [
        "There are 43 such columns. Out of this we can drop columns which have only two unique values as either of these values would be less than 1%, hence such columns would have less variance. (we can think about dropping them later)"
      ],
      "metadata": {
        "_cell_guid": "993fbe76-69a9-4ece-92de-d91fc3578908",
        "_uuid": "f52a3a4bfacb802477f136fd7a7b913a08e71a10"
      }
    },
    {
      "cell_type": "code",
      "source": [
        "len(low_var_cols)"
      ],
      "outputs": [
        {
          "output_type": "execute_result",
          "execution_count": 236,
          "data": {
            "text/plain": [
              "43"
            ]
          },
          "metadata": {}
        }
      ],
      "execution_count": 236,
      "metadata": {
        "_cell_guid": "acdbf548-ce7c-4931-be70-caea75003c7b",
        "_uuid": "0cc29766ad7f2178643535079651cfe25182f3a3",
        "collapsed": true
      }
    },
    {
      "cell_type": "code",
      "source": [
        "count = 0\n",
        "low_var_drop_cols = []\n",
        "for c in low_var_cols:\n",
        "    if (train_df[c].nunique() <= 2):\n",
        "        #print(c)\n",
        "        low_var_drop_cols.append(c)\n",
        "        count+=1\n",
        "print(count)\n",
        "len(low_var_drop_cols)"
      ],
      "outputs": [
        {
          "output_type": "stream",
          "name": "stdout",
          "text": [
            "11\n"
          ]
        },
        {
          "output_type": "execute_result",
          "execution_count": 237,
          "data": {
            "text/plain": [
              "11"
            ]
          },
          "metadata": {}
        }
      ],
      "execution_count": 237,
      "metadata": {
        "_cell_guid": "40a5adac-4895-456b-8816-4f70333036fc",
        "_uuid": "6ca713951a4224707b13c61b4bbbb2d45990bca0",
        "collapsed": true
      }
    },
    {
      "cell_type": "markdown",
      "source": [
        "The column `assessmentyear` alone has one unique variable throughout. All the other columns have some unique features which can considerably vary the cost. Hence, we will not drop those columns for now."
      ],
      "metadata": {
        "_cell_guid": "47b33b19-d5ca-4b3e-8a11-e211350cade6",
        "_uuid": "27e356c9f653743f8b17def605d464f1304bb33d"
      }
    },
    {
      "cell_type": "markdown",
      "source": [
        "Only **ONE** column '**assessmentyear**' has a single distinct value throughout. We can cross check that:"
      ],
      "metadata": {
        "_cell_guid": "42c420c9-1bab-4a60-9b31-b97d4a8c5ecd",
        "_uuid": "6dc97ef7937fb4994051b042f954c8a7920e9ced"
      }
    },
    {
      "cell_type": "code",
      "source": [
        "print(train_df['assessmentyear'].nunique())"
      ],
      "outputs": [
        {
          "output_type": "stream",
          "name": "stdout",
          "text": [
            "1\n"
          ]
        }
      ],
      "execution_count": 238,
      "metadata": {
        "_cell_guid": "48968579-5aaa-4f27-b4aa-ceb58a6eeef8",
        "_uuid": "7c65c2f5ded629983b737defabc24d387d3c7c1a",
        "collapsed": true
      }
    },
    {
      "cell_type": "markdown",
      "source": [
        "***2. COLUMNS WITH MISSING VALUES***"
      ],
      "metadata": {
        "_cell_guid": "31d4309f-6596-4100-bc01-6e2bf35331ff",
        "_uuid": "016fc1291376602bcfaf106f9550ae2342d721df"
      }
    },
    {
      "cell_type": "code",
      "source": [
        "#--- List of columns having Nan values and the number ---\n",
        "\n",
        "missing_col = train_df.columns[train_df.isnull().any()].tolist()\n",
        "# print(missing_col)\n",
        "print('There are {} missing columns'.format(len(missing_col)))"
      ],
      "outputs": [
        {
          "output_type": "stream",
          "name": "stdout",
          "text": [
            "There are 47 missing columns\n"
          ]
        }
      ],
      "execution_count": 239,
      "metadata": {
        "_cell_guid": "34dd1be1-95ee-4e44-afa0-df14886b6ba6",
        "_uuid": "94e95fbc3d6aeedb6e7926160311e8a6d3bdde39",
        "collapsed": true
      }
    },
    {
      "cell_type": "markdown",
      "source": [
        "***3. COLUMNS WITH NO MISSING VALUES***"
      ],
      "metadata": {
        "_cell_guid": "5e76658c-eb42-4be1-8af7-2118901039e2",
        "_uuid": "5239100288f253524df1456cd9962a0286d80f04"
      }
    },
    {
      "cell_type": "code",
      "source": [
        "nonmissing_col = train_df.columns[~(train_df.isnull().any())].tolist()\n",
        "print(nonmissing_col)\n",
        "print('There are {} non-missing columns'.format(len(nonmissing_col)))"
      ],
      "outputs": [
        {
          "output_type": "stream",
          "name": "stdout",
          "text": [
            "['parcelid', 'logerror', 'transactiondate', 'bathroomcnt', 'bedroomcnt', 'fips', 'latitude', 'longitude', 'propertylandusetypeid', 'rawcensustractandblock', 'regionidcounty', 'roomcnt', 'assessmentyear']\n",
            "There are 13 non-missing columns\n"
          ]
        }
      ],
      "execution_count": 240,
      "metadata": {
        "_cell_guid": "7f74e013-81c8-4c28-b7e6-3b9432992771",
        "_uuid": "c94029e1f0fa7ecd1cb2c5308434bba081afa3c6",
        "collapsed": true
      }
    },
    {
      "cell_type": "markdown",
      "source": [
        "There are 13 columns that have no missing values. Every other column has some missing values.\n",
        "\n",
        "\n",
        "***4. CHECKING DATATYPE OF EACH COLUMN ***"
      ],
      "metadata": {
        "_cell_guid": "7ebe3df4-5222-4053-a03f-61b2dff501c5",
        "_uuid": "3673c8967eb4fb8d26ac5659802da123242e9cad"
      }
    },
    {
      "cell_type": "code",
      "source": [
        "#--- Data type of each column ---\n",
        "#print(train_df.dtypes)"
      ],
      "outputs": [],
      "execution_count": 241,
      "metadata": {
        "_cell_guid": "f784c441-0277-4309-8f1c-5a716c57194f",
        "_uuid": "8fa83e817e5ff6cb86f95b74f4c15c26ce9c9912",
        "collapsed": true
      }
    },
    {
      "cell_type": "markdown",
      "source": [
        "What is the exact count of all these datatypes?"
      ],
      "metadata": {
        "_cell_guid": "4fa65ec2-b256-4a88-9276-4aa68eb39701",
        "_uuid": "e1b3975eaa369614b67d511fb082c8eeddb43f9b"
      }
    },
    {
      "cell_type": "code",
      "source": [
        "print(train_df.dtypes.value_counts())"
      ],
      "outputs": [
        {
          "output_type": "stream",
          "name": "stdout",
          "text": [
            "float64    53\n",
            "object      6\n",
            "int64       1\n",
            "dtype: int64\n"
          ]
        }
      ],
      "execution_count": 242,
      "metadata": {
        "_cell_guid": "9e582157-50f9-4345-94d6-ea526d8a8e6a",
        "_uuid": "5bb8af4a3a992ce82c2bc6038a02b507f751ed98",
        "collapsed": true
      }
    },
    {
      "cell_type": "markdown",
      "source": [
        "Observations:\n",
        "1. Only '**parcel_id**' is off **integer** type\n",
        "2. '**hashottuborspa**', '**propertycountylandusecode**', '**propertyzoningdesc**', '**fireplaceflag**' and '**taxdelinquencyflag** are of type **object**\n",
        "3. The remaining columns are of type **float**."
      ],
      "metadata": {
        "_cell_guid": "12448e91-1da8-46b4-89e5-d3fd1aeaf75d",
        "_uuid": "ec26b52b22ac6f37e6baa1363f6b242556048d83"
      }
    },
    {
      "cell_type": "markdown",
      "source": [
        "***5.1 Analyzing column of type `int` -> `parcelid`***"
      ],
      "metadata": {
        "_cell_guid": "42d1285f-7cfc-49f2-9de2-cb4e3314dd95",
        "_uuid": "e5b809895ff8a28ef96206c83ce0b02fe39840d1"
      }
    },
    {
      "cell_type": "code",
      "source": [
        "#--- Checking if all the parcelids are unique in both the dataframes ---\n",
        "\n",
        "print (prop_df['parcelid'].nunique())\n",
        "print (prop_df.shape[0])\n",
        "\n",
        "print (train_df['parcelid'].nunique())\n",
        "print (train_df.shape[0]) \n"
      ],
      "outputs": [
        {
          "output_type": "stream",
          "name": "stdout",
          "text": [
            "2985217\n",
            "2985217\n",
            "90150\n",
            "90275\n"
          ]
        }
      ],
      "execution_count": 243,
      "metadata": {
        "_cell_guid": "d472bf38-2f97-4f87-b80c-2a7a3b3e4fff",
        "_uuid": "9f89e77a00b526869c296a56dda43832e4ae3e72",
        "collapsed": true
      }
    },
    {
      "cell_type": "markdown",
      "source": [
        "Some of the parcelid in the merged dataframe have been repeated more than once."
      ],
      "metadata": {
        "_cell_guid": "34b8dab8-3124-497e-adbd-b8f02af94a84",
        "_uuid": "b7d887d2a79a5a1d36f26147e42e0bbb23fda49b"
      }
    },
    {
      "cell_type": "markdown",
      "source": [
        "***5.2 Analyzing columns of type `object`***\n",
        "\n",
        "Let us get the unique elements in each of these columns (categorical variables) along with their count. Then we can convert them to numerical variables:"
      ],
      "metadata": {
        "_cell_guid": "e769c6b5-eea8-4754-803d-36345f401ba2",
        "_uuid": "8398ce26e7fd929c2f39b45f0be6b0c0af2de20b"
      }
    },
    {
      "cell_type": "code",
      "source": [
        "print(train_df['hashottuborspa'].nunique())\n",
        "print(train_df['hashottuborspa'].unique())\n",
        "print('\\n')\n",
        "print(train_df['propertycountylandusecode'].nunique())\n",
        "print(train_df['propertycountylandusecode'].unique())\n",
        "print('\\n')\n",
        "print(train_df['propertyzoningdesc'].nunique())\n",
        "print(train_df['propertyzoningdesc'].unique())\n",
        "print('\\n')\n",
        "print(train_df['fireplaceflag'].nunique())\n",
        "print(train_df['fireplaceflag'].unique())\n",
        "print('\\n')\n",
        "print(train_df['taxdelinquencyflag'].nunique())\n",
        "print(train_df['taxdelinquencyflag'].unique()) \n",
        "print('\\n') \n",
        "print(train_df['transactiondate'].nunique())\n"
      ],
      "outputs": [
        {
          "output_type": "stream",
          "name": "stdout",
          "text": [
            "1\n",
            "[nan True]\n",
            "\n",
            "\n",
            "77\n",
            "['0100' '1' '010C' '122' '1129' '34' '1128' '010E' '0104' '0101' '0200'\n",
            " '0700' '1111' '01DC' '010D' '1110' '0400' '012C' '010V' '1116' '01HC'\n",
            " '010G' '0300' '010F' '1117' '0103' '38' '1210' '0111' '010M' '96' '135'\n",
            " '0108' '1014' '1112' '0201' '0109' '1310' '010H' '1410' '1222' '1321'\n",
            " '1720' '1011' '1432' '0401' '0102' '012D' '73' '105' '0110' '100V' '0130'\n",
            " '8800' '0303' '0210' '1012' '1333' '0114' '01DD' '020G' '040A' '012E'\n",
            " '020M' '040V' '070D' '1200' '030G' '1722' '6050' '1421' '010' nan '200'\n",
            " '0' '1420' '0131' '0301']\n",
            "\n",
            "\n",
            "1996\n",
            "['LARS' nan 'PSR6' ... 'SHCG' 'COR2YY' 'LNR2RPD-R3']\n",
            "\n",
            "\n",
            "1\n",
            "[nan True]\n",
            "\n",
            "\n",
            "1\n",
            "[nan 'Y']\n",
            "\n",
            "\n",
            "352\n"
          ]
        }
      ],
      "execution_count": 244,
      "metadata": {
        "_cell_guid": "d1b53867-60ec-4516-abe0-bbc816199e1c",
        "_uuid": "18b012b53354d99cd25c28fbd226e20e3ae0c979",
        "collapsed": true
      }
    },
    {
      "cell_type": "markdown",
      "source": [
        "Three of the columns mentioned above (**hashottuborspa**, **fireplaceflag** and **taxdelinquencyflag**) are merely **flags** indicating presence of the feature or not. Hence the `nan` values can be replaced with '0', while the other values can be replaced with '1'."
      ],
      "metadata": {
        "_cell_guid": "56d6aad2-e322-42fc-bb8f-1c96769acb78",
        "_uuid": "7308ddceba31b1bb07d216c51839189ce83be3fd"
      }
    },
    {
      "cell_type": "code",
      "source": [
        "train_df['hashottuborspa'] = train_df['hashottuborspa'].fillna(0)\n",
        "train_df['fireplaceflag'] = train_df['fireplaceflag'].fillna(0)\n",
        "train_df['taxdelinquencyflag'] = train_df['taxdelinquencyflag'].fillna(0)\n",
        "\n",
        "#---  replace the string 'True' and 'Y' with value '1' ---\n",
        "\n",
        "train_df.hashottuborspa = train_df.hashottuborspa.astype(np.int8)\n",
        "train_df.fireplaceflag = train_df.fireplaceflag.astype(np.int8)\n",
        "train_df['taxdelinquencyflag'].replace( 'Y', 1, inplace=True)\n",
        "train_df.taxdelinquencyflag = train_df.taxdelinquencyflag.astype(np.int8)"
      ],
      "outputs": [],
      "execution_count": 245,
      "metadata": {
        "_cell_guid": "ed633534-1923-4914-bfaf-5cf0f4b75b08",
        "_uuid": "9e74d10b2c8b94a9730aebb9a41162e808f0cfa3",
        "collapsed": true
      }
    },
    {
      "cell_type": "markdown",
      "source": [
        "Out of the remaining three columns `transactiondate` is a datetime object"
      ],
      "metadata": {
        "_cell_guid": "050af16f-79d9-40c2-996b-f7682440d5b0",
        "_uuid": "c3310a85debc42801e11ec49b5409219642ac327"
      }
    },
    {
      "cell_type": "code",
      "source": [
        "train_df['transactiondate'] = pd.to_datetime(train_df['transactiondate'])\n",
        "\n",
        "#--- Creating two additional columns each for the month and day ---\n",
        "train_df['transaction_month'] = train_df.transactiondate.dt.month.astype(np.int64)\n",
        "train_df['transaction_day'] = train_df.transactiondate.dt.weekday.astype(np.int64)\n",
        "\n",
        "#--- Dropping the 'transactiondate' column now ---\n",
        "train_df = train_df.drop('transactiondate', 1)"
      ],
      "outputs": [],
      "execution_count": 246,
      "metadata": {
        "_cell_guid": "7efb17b5-ee97-42ce-a8aa-7abb019e9d68",
        "_uuid": "ff7427a070f0a7d4a9fbcf7eb80220ab8352da79",
        "collapsed": true
      }
    },
    {
      "cell_type": "markdown",
      "source": [
        "The remaining two columns are random in nature, in terms of their values `propertycountylandusecode` and `propertyzoningdesc`"
      ],
      "metadata": {
        "_cell_guid": "f5139689-1660-4119-84c4-f09496e3c60a",
        "_uuid": "b1f84026d413d4744ddbc15b35c6d978d81249a6"
      }
    },
    {
      "cell_type": "code",
      "source": [
        "#--- Counting number of occurrences of Nan values in remaining two columns ---\n",
        "print(train_df['propertycountylandusecode'].isnull().sum())\n",
        "print(train_df['propertyzoningdesc'].isnull().sum())"
      ],
      "outputs": [
        {
          "output_type": "stream",
          "name": "stdout",
          "text": [
            "1\n",
            "31962\n"
          ]
        }
      ],
      "execution_count": 247,
      "metadata": {
        "_cell_guid": "63227f19-2eed-4874-af81-eeaa7aa2cd1f",
        "_uuid": "7433eacf9764b00b5cc49e9934efa737e9c3c6a9",
        "collapsed": true
      }
    },
    {
      "cell_type": "markdown",
      "source": [
        "The occurrences of missing values for the second column (`propertyzoningdesc`) is so large for us to remove the observations. So we will replace them with a **random** value."
      ],
      "metadata": {
        "_cell_guid": "e6989784-654d-4805-9684-2abdacf13872",
        "_uuid": "5a9c04ccba8b9de071b8565d43561a3177ad6193"
      }
    },
    {
      "cell_type": "code",
      "source": [
        "#--- Since there is only ONE missing value in this column we will replace it manually ---\n",
        "train_df[\"propertycountylandusecode\"].fillna('023A', inplace =True)\n",
        "print(train_df['propertycountylandusecode'].isnull().sum())"
      ],
      "outputs": [
        {
          "output_type": "stream",
          "name": "stdout",
          "text": [
            "0\n"
          ]
        }
      ],
      "execution_count": 248,
      "metadata": {
        "_cell_guid": "52536528-24f3-47e8-9461-f100b42814e7",
        "_uuid": "34631c0064d442ecbc53f46b4f73724b8445e795",
        "collapsed": true
      }
    },
    {
      "cell_type": "code",
      "source": [
        "train_df[\"propertyzoningdesc\"].fillna('UNIQUE', inplace =True)\n",
        "print(train_df['propertyzoningdesc'].isnull().sum())"
      ],
      "outputs": [
        {
          "output_type": "stream",
          "name": "stdout",
          "text": [
            "0\n"
          ]
        }
      ],
      "execution_count": 249,
      "metadata": {
        "_cell_guid": "3c4e1a12-3253-47fd-81d0-4d3b9561a6ab",
        "_uuid": "ab06b97ee423c60a2d5e07804f35c9abea8d9583",
        "collapsed": true
      }
    },
    {
      "cell_type": "markdown",
      "source": [
        "I have assigned same code `UNIQUE` for all the missing observations. If it does impact our modeling we can always change it."
      ],
      "metadata": {
        "_cell_guid": "4f8824ac-88bf-446d-94d0-646e7e966594",
        "_uuid": "00a16267384f8ce8e3e0f42728275b7f245fe413"
      }
    },
    {
      "cell_type": "markdown",
      "source": [
        "***5.3 Analyzing columns of type `float`***\n",
        "\n",
        "   ***5.3.1 Firstly, the target variable `logerror`. ***\n",
        "   \n",
        "   Let us see the statistics of this column and then plot it."
      ],
      "metadata": {
        "_cell_guid": "11201415-f3f4-4347-9ec4-79aee185937b",
        "_uuid": "1956b1e1e5c1d9d7bcd295a05b4163244d827b21"
      }
    },
    {
      "cell_type": "code",
      "source": [
        "#--- Statistics of the target variable ---\n",
        "\n",
        "print(train_df['logerror'].describe())"
      ],
      "outputs": [
        {
          "output_type": "stream",
          "name": "stdout",
          "text": [
            "count    90275.000000\n",
            "mean         0.011457\n",
            "std          0.161079\n",
            "min         -4.605000\n",
            "25%         -0.025300\n",
            "50%          0.006000\n",
            "75%          0.039200\n",
            "max          4.737000\n",
            "Name: logerror, dtype: float64\n"
          ]
        }
      ],
      "execution_count": 250,
      "metadata": {
        "_cell_guid": "729295d3-dbac-4cf4-973a-36b3baf82c47",
        "_uuid": "f6aaaead7c1f4f89a8817968da26d1f988354571",
        "collapsed": true
      }
    },
    {
      "cell_type": "code",
      "source": [
        "import matplotlib.pyplot as plt\n",
        "plt.scatter(train_df['logerror'], train_df.logerror.values)\n",
        "plt.xlabel('No of observations', fontsize=12)\n",
        "plt.ylabel('logerror', fontsize=12)\n",
        "plt.show()"
      ],
      "outputs": [
        {
          "output_type": "display_data",
          "data": {
            "text/plain": [
              "<Figure size 432x288 with 1 Axes>"
            ],
            "image/png": "[encoded data removed]"
          },
          "metadata": {
            "needs_background": "light"
          }
        }
      ],
      "execution_count": 251,
      "metadata": {
        "_cell_guid": "4e70a91a-c0b3-4143-8e5a-89b1b37c817e",
        "_uuid": "5edd383b726caf90ee688c4eccc44bf7170b0143",
        "collapsed": true
      }
    },
    {
      "cell_type": "markdown",
      "source": [
        "Most of the values lie in the range [**-1.75 - 3.75**] (approx)"
      ],
      "metadata": {
        "_cell_guid": "75648165-6df6-423e-a2c4-e8df37195697",
        "_uuid": "ac70022a090177579a19ecd66da80c58970088f6"
      }
    },
    {
      "cell_type": "markdown",
      "source": [
        "First I would like to take all columns of type `float` in a list"
      ],
      "metadata": {
        "_cell_guid": "2e0cb8a4-7a91-4d47-80b8-661d9013d1f8",
        "_uuid": "8ec50a0306b00dfc498f1da0e3ad864cbae249f6"
      }
    },
    {
      "cell_type": "code",
      "source": [
        "#--- putting all columns of 'float' type in a list ---\n",
        "float_cols = list(train_df.select_dtypes(include=['float']).columns)\n",
        "print('There are {} columns of type float having missing values'.format(len(float_cols)))\n",
        "print('\\n')\n",
        "#print(float_cols)"
      ],
      "outputs": [
        {
          "output_type": "stream",
          "name": "stdout",
          "text": [
            "There are 53 columns of type float having missing values\n",
            "\n",
            "\n"
          ]
        }
      ],
      "execution_count": 252,
      "metadata": {
        "_cell_guid": "2414d110-e2e4-491a-8553-e147226feb3b",
        "_uuid": "2532db42be777b66835bbcf2c10f286c1cb0fa29",
        "collapsed": true
      }
    },
    {
      "cell_type": "markdown",
      "source": [
        "Now collect all columns of type `float` and **missing** values in a list"
      ],
      "metadata": {
        "_cell_guid": "a79e7a96-cc19-4438-82bb-7d7e864cef33",
        "_uuid": "68338f7253f893b1c4d4d352df426be25f4878e5"
      }
    },
    {
      "cell_type": "code",
      "source": [
        "#--- putting columns of type 'float' having missing values in a list ---\n",
        "float_nan_col = []\n",
        "for column in float_cols:\n",
        "    if (train_df[column].isnull().sum() > 0):\n",
        "        float_nan_col.append(column)\n",
        "\n",
        "print('There are {} columns of type float having missing values'.format(len(float_nan_col)))\n",
        "print('\\n')\n",
        "#print(float_nan_col)"
      ],
      "outputs": [
        {
          "output_type": "stream",
          "name": "stdout",
          "text": [
            "There are 42 columns of type float having missing values\n",
            "\n",
            "\n"
          ]
        }
      ],
      "execution_count": 253,
      "metadata": {
        "_cell_guid": "8133db11-4222-48ab-83f3-706c9a2dabf6",
        "_uuid": "73b0f41f4b1682bd7546cdbff04754eb68d217bb",
        "collapsed": true
      }
    },
    {
      "cell_type": "code",
      "source": [
        "float_nan_col"
      ],
      "outputs": [
        {
          "output_type": "execute_result",
          "execution_count": 254,
          "data": {
            "text/plain": [
              "['airconditioningtypeid',\n",
              " 'architecturalstyletypeid',\n",
              " 'basementsqft',\n",
              " 'buildingclasstypeid',\n",
              " 'buildingqualitytypeid',\n",
              " 'calculatedbathnbr',\n",
              " 'decktypeid',\n",
              " 'finishedfloor1squarefeet',\n",
              " 'calculatedfinishedsquarefeet',\n",
              " 'finishedsquarefeet12',\n",
              " 'finishedsquarefeet13',\n",
              " 'finishedsquarefeet15',\n",
              " 'finishedsquarefeet50',\n",
              " 'finishedsquarefeet6',\n",
              " 'fireplacecnt',\n",
              " 'fullbathcnt',\n",
              " 'garagecarcnt',\n",
              " 'garagetotalsqft',\n",
              " 'heatingorsystemtypeid',\n",
              " 'lotsizesquarefeet',\n",
              " 'poolcnt',\n",
              " 'poolsizesum',\n",
              " 'pooltypeid10',\n",
              " 'pooltypeid2',\n",
              " 'pooltypeid7',\n",
              " 'regionidcity',\n",
              " 'regionidneighborhood',\n",
              " 'regionidzip',\n",
              " 'storytypeid',\n",
              " 'threequarterbathnbr',\n",
              " 'typeconstructiontypeid',\n",
              " 'unitcnt',\n",
              " 'yardbuildingsqft17',\n",
              " 'yardbuildingsqft26',\n",
              " 'yearbuilt',\n",
              " 'numberofstories',\n",
              " 'structuretaxvaluedollarcnt',\n",
              " 'taxvaluedollarcnt',\n",
              " 'landtaxvaluedollarcnt',\n",
              " 'taxamount',\n",
              " 'taxdelinquencyyear',\n",
              " 'censustractandblock']"
            ]
          },
          "metadata": {}
        }
      ],
      "execution_count": 254,
      "metadata": {
        "collapsed": false,
        "outputHidden": false,
        "inputHidden": false
      }
    },
    {
      "cell_type": "markdown",
      "source": [
        "***5.3.2*** Analysis must be done on **THESE** 42 columns to impute missing values** with** care:\n",
        "\n",
        "a. Columns **`regionidcity`, `regionidneighborhood`** and **`regionidzip`** can be given some random values based on the other values in the respective columns.\n",
        "\n",
        "b. Missing values in column **`unitcnt`** must be assigned value **1**, signifying a single structural unit. Making it '0' would be absurd!!!\n",
        "\n",
        "c. Column **`censustractandblock`** can be given random values to the missing observations present within the same column.\n",
        "\n",
        "d. There are **756** missing values in the column **`yearbuilt`**, which cannot be imputed randomly AT ALL!! However, for the sake of starting off I will assign it random year values based in the same column.\n",
        "\n",
        "e. The remaining columns can be safely assigned value '0', beacuse they all signify a presence of a particular ID or count."
      ],
      "metadata": {
        "_cell_guid": "827fba67-666f-4e59-97a4-fd37db59e8be",
        "_uuid": "c54ec46df426832185c15446fd2e1ee90be1281d"
      }
    },
    {
      "cell_type": "markdown",
      "source": [
        "***5.3.2.a*** Columns **`regionidcity`, `regionidneighborhood`** and **`regionidzip`**\n",
        "\n",
        "Here I am imputing missing values by randomly assigning values already present in the respective columns. (If you have a better way to impute such values do mention it in the comments section!!)"
      ],
      "metadata": {
        "_cell_guid": "89e55972-74bd-4d36-a89e-751a972f2854",
        "_uuid": "c4312f91b6ef208333c66175d8795d72c95a27ba"
      }
    },
    {
      "cell_type": "code",
      "source": [
        "cols = ['regionidcity', 'regionidneighborhood', 'regionidzip']\n",
        "print(train_df['regionidcity'].isnull().sum())\n",
        "print(train_df['regionidneighborhood'].isnull().sum())\n",
        "print(train_df['regionidzip'].isnull().sum())\n",
        "\n",
        "train_df[\"regionidcity\"].fillna(lambda x: np.random(train_df[train_df[\"regionidcity\"] != np.nan]), inplace =True)\n",
        "train_df[\"regionidneighborhood\"].fillna(lambda x: np.random(train_df[train_df[\"regionidneighborhood\"] != np.nan]), inplace =True)\n",
        "train_df[\"regionidzip\"].fillna(lambda x : np.random(train_df[\"regionidzip\"] != np.nan) , inplace =True)\n",
        "\n",
        "#--- cross check whether nan values are present or not ---\n",
        "print(train_df['regionidcity'].isnull().sum())\n",
        "print(train_df['regionidneighborhood'].isnull().sum())\n",
        "print(train_df['regionidzip'].isnull().sum())"
      ],
      "outputs": [
        {
          "output_type": "stream",
          "name": "stdout",
          "text": [
            "1803\n",
            "54263\n",
            "35\n",
            "0\n",
            "0\n",
            "0\n"
          ]
        }
      ],
      "execution_count": 255,
      "metadata": {
        "_cell_guid": "40afc34a-fb87-4d6e-a4fe-288f0b8669c3",
        "_uuid": "125ad4cb6b231832ce20ad9893a52fb97ecc54c6",
        "collapsed": true
      }
    },
    {
      "cell_type": "markdown",
      "source": [
        "***5.3.2.b*** Column **`unitcnt`**\n",
        "\n",
        "Here we will replace missing values with the mostly occuring variable"
      ],
      "metadata": {
        "_cell_guid": "bc7ad117-a16d-4ee2-8f6b-cbbac3c7d664",
        "_uuid": "2539b6421061642eae860f7ac9f216aaa8c9b56e"
      }
    },
    {
      "cell_type": "code",
      "source": [
        "#--- some analysis on the column values ---\n",
        "\n",
        "print(train_df['unitcnt'].unique())\n",
        "print(train_df['unitcnt'].value_counts())\n",
        "sns.countplot(x = 'unitcnt', data = train_df)"
      ],
      "outputs": [
        {
          "output_type": "stream",
          "name": "stdout",
          "text": [
            "[  1.  nan   2.   4.   3.   6. 143.  11.   9.   5.  70.]\n",
            "1.0      54503\n",
            "2.0       2354\n",
            "4.0        871\n",
            "3.0        619\n",
            "6.0          1\n",
            "5.0          1\n",
            "9.0          1\n",
            "11.0         1\n",
            "143.0        1\n",
            "70.0         1\n",
            "Name: unitcnt, dtype: int64\n"
          ]
        },
        {
          "output_type": "execute_result",
          "execution_count": 256,
          "data": {
            "text/plain": [
              "<matplotlib.axes._subplots.AxesSubplot at 0x1a24e2f128>"
            ]
          },
          "metadata": {}
        },
        {
          "output_type": "display_data",
          "data": {
            "text/plain": [
              "<Figure size 432x288 with 1 Axes>"
            ],
            "image/png": "[encoded data removed]"
          },
          "metadata": {
            "needs_background": "light"
          }
        }
      ],
      "execution_count": 256,
      "metadata": {
        "_cell_guid": "ca5c4e9d-22ec-4ea0-b80e-8dec097dcaa1",
        "_uuid": "032d7aeb8a5ebf1ab10290042f4e180a86ba5c2c",
        "collapsed": true
      }
    },
    {
      "cell_type": "code",
      "source": [
        "#--- Replace the missing values with the maximum occurences ---\n",
        "train_df['unitcnt'] = train_df['unitcnt'].fillna(train_df['unitcnt'].mode()[0])\n",
        "\n",
        "#--- cross check for missing values ---\n",
        "print(train_df['unitcnt'].isnull().sum())"
      ],
      "outputs": [
        {
          "output_type": "stream",
          "name": "stdout",
          "text": [
            "0\n"
          ]
        }
      ],
      "execution_count": 257,
      "metadata": {
        "_cell_guid": "9164ceb0-e270-4603-851f-554f168f9532",
        "_uuid": "e465f6cb01d2d75be8265e239c5a8452c8c94876",
        "collapsed": true
      }
    },
    {
      "cell_type": "markdown",
      "source": [
        "***5.3.2.c*** Column **`censustractandblock`**\n",
        "\n",
        "Let us see the correlation between `censustractandblock` and `rawcensustractandblock`"
      ],
      "metadata": {
        "_cell_guid": "d35ae691-0906-4888-b437-0d9c06e8cae8",
        "_uuid": "ae1e2f3db94a3bfd6cf19c2b5aa87fc1e5e87cf1"
      }
    },
    {
      "cell_type": "code",
      "source": [
        "print(train_df['censustractandblock'].corr(train_df['rawcensustractandblock']))"
      ],
      "outputs": [
        {
          "output_type": "stream",
          "name": "stdout",
          "text": [
            "0.9998219419915649\n"
          ]
        }
      ],
      "execution_count": 258,
      "metadata": {
        "_cell_guid": "17c27a02-ddda-4aee-954e-d0424f2815d8",
        "_uuid": "3d32c03070abb204eeaaaa7a0cb741606727df33",
        "collapsed": true
      }
    },
    {
      "cell_type": "code",
      "source": [
        "print(train_df['censustractandblock'].nunique())\n",
        "print(train_df['rawcensustractandblock'].nunique())"
      ],
      "outputs": [
        {
          "output_type": "stream",
          "name": "stdout",
          "text": [
            "42398\n",
            "42647\n"
          ]
        }
      ],
      "execution_count": 259,
      "metadata": {
        "_cell_guid": "01db9f1e-ad32-4303-a017-c50efa3d75b3",
        "_uuid": "af79c05dca60be6d79c9c3268ee1f233b7625061",
        "collapsed": true
      }
    },
    {
      "cell_type": "markdown",
      "source": [
        "The correlation between these columns is VERY high (~1). So filling missing values MUST be in relation to column `rawcensustractandblock`"
      ],
      "metadata": {
        "_cell_guid": "00861685-884b-4fe3-b38e-b895c7351360",
        "_uuid": "6dbd871b9c9b142ece8dd2baf20d28312c0ee463"
      }
    },
    {
      "cell_type": "markdown",
      "source": [
        "***5.3.2.d*** Column **`yearbuilt`**\n",
        "\n",
        "Arranging the `yearbuilt`column in ascending order."
      ],
      "metadata": {
        "_cell_guid": "3700dd40-c213-4a82-ae10-3399a82d58f3",
        "_uuid": "86100135d4696350a8cd2662b015fc200fee997d"
      }
    },
    {
      "cell_type": "code",
      "source": [
        "print(train_df['yearbuilt'].sort_values().unique())"
      ],
      "outputs": [
        {
          "output_type": "stream",
          "name": "stdout",
          "text": [
            "[1885. 1886. 1887. 1888. 1890. 1891. 1892. 1893. 1894. 1895. 1896. 1897.\n",
            " 1898. 1899. 1900. 1901. 1902. 1903. 1904. 1905. 1906. 1907. 1908. 1909.\n",
            " 1910. 1911. 1912. 1913. 1914. 1915. 1916. 1917. 1918. 1919. 1920. 1921.\n",
            " 1922. 1923. 1924. 1925. 1926. 1927. 1928. 1929. 1930. 1931. 1932. 1933.\n",
            " 1934. 1935. 1936. 1937. 1938. 1939. 1940. 1941. 1942. 1943. 1944. 1945.\n",
            " 1946. 1947. 1948. 1949. 1950. 1951. 1952. 1953. 1954. 1955. 1956. 1957.\n",
            " 1958. 1959. 1960. 1961. 1962. 1963. 1964. 1965. 1966. 1967. 1968. 1969.\n",
            " 1970. 1971. 1972. 1973. 1974. 1975. 1976. 1977. 1978. 1979. 1980. 1981.\n",
            " 1982. 1983. 1984. 1985. 1986. 1987. 1988. 1989. 1990. 1991. 1992. 1993.\n",
            " 1994. 1995. 1996. 1997. 1998. 1999. 2000. 2001. 2002. 2003. 2004. 2005.\n",
            " 2006. 2007. 2008. 2009. 2010. 2011. 2012. 2013. 2014. 2015.   nan]\n"
          ]
        }
      ],
      "execution_count": 260,
      "metadata": {
        "_cell_guid": "5789fe03-9e80-4741-b6c4-d416973e40c3",
        "_uuid": "5cbd823b75e6800b26b76e0c8b621efdd1b69a5d",
        "collapsed": true
      }
    },
    {
      "cell_type": "markdown",
      "source": [
        "NAN has to be for 2016"
      ],
      "metadata": {
        "_cell_guid": "5ce7e055-e6f0-45cd-8f65-9e2beac30517",
        "_uuid": "e0d731af9e9d976ad1f93c2dbd311880026130c6"
      }
    },
    {
      "cell_type": "code",
      "source": [
        "train_df['yearbuilt'] = train_df['yearbuilt'].fillna(2016)\n",
        "\n",
        "#--- cross check for missing values ---\n",
        "print(train_df['yearbuilt'].isnull().sum())"
      ],
      "outputs": [
        {
          "output_type": "stream",
          "name": "stdout",
          "text": [
            "0\n"
          ]
        }
      ],
      "execution_count": 261,
      "metadata": {
        "_cell_guid": "498b5ff2-d77b-49ab-aafc-d1eaa6d1c093",
        "_uuid": "5865248b5b97f01a04e3e55ec070a208ff27eb5c",
        "collapsed": true,
        "outputHidden": true
      }
    },
    {
      "cell_type": "markdown",
      "source": [
        "***5.3.2.e***  ***Remaining columns***\n",
        "\n",
        "The remaining columns can be safely assigned value '0', beacuse they all signify a presence of a particular ID or count."
      ],
      "metadata": {
        "_cell_guid": "c49ac8b0-f2c6-4f38-ab01-a6ccc7c0f55d",
        "_uuid": "5669aa63ba9884cd664ff79e56f4f8bcd9af93ad"
      }
    },
    {
      "cell_type": "code",
      "source": [
        "#--- list of columns of type 'float' having missing values\n",
        "#--- float_nan_col \n",
        "\n",
        "#--- list of columns of type 'float' after imputing missing values ---\n",
        "float_filled_cols = ['regionidcity', 'regionidneighborhood', 'regionidzip', 'unitcnt', 'censustractandblock', 'yearbuilt']\n",
        "\n",
        "count = 0\n",
        "for i in float_nan_col:\n",
        "    if i not in float_filled_cols:\n",
        "        train_df[i] = train_df[i].fillna(0)\n",
        "        count+=1\n",
        "print(count)"
      ],
      "outputs": [
        {
          "output_type": "stream",
          "name": "stdout",
          "text": [
            "36\n"
          ]
        }
      ],
      "execution_count": 262,
      "metadata": {
        "_cell_guid": "309becb4-0d2e-4998-b3aa-f858e515bd13",
        "_uuid": "21001e3374cbbc7400fbc53cc1740f473424485d",
        "collapsed": true
      }
    },
    {
      "cell_type": "code",
      "source": [
        "#print(len(float_nan_col))\n",
        "train_df['logerror']"
      ],
      "outputs": [
        {
          "output_type": "execute_result",
          "execution_count": 263,
          "data": {
            "text/plain": [
              "0        0.0276\n",
              "1       -0.1684\n",
              "2       -0.0040\n",
              "3        0.0218\n",
              "4       -0.0050\n",
              "5       -0.2705\n",
              "6        0.0440\n",
              "7        0.1638\n",
              "8       -0.0030\n",
              "9        0.0843\n",
              "10       0.3825\n",
              "11      -0.0161\n",
              "12       0.0344\n",
              "13       0.0816\n",
              "14      -0.0450\n",
              "15       0.0020\n",
              "16       0.0440\n",
              "17      -0.0419\n",
              "18      -0.0020\n",
              "19       0.0100\n",
              "20      -0.0387\n",
              "21       0.0218\n",
              "22       0.0149\n",
              "23       0.1151\n",
              "24      -0.1696\n",
              "25      -0.0440\n",
              "26      -0.0747\n",
              "27       0.0080\n",
              "28       0.0010\n",
              "29      -0.0534\n",
              "          ...  \n",
              "90245    0.0953\n",
              "90246    0.0139\n",
              "90247    0.2095\n",
              "90248    0.0080\n",
              "90249   -0.1312\n",
              "90250    0.0421\n",
              "90251    0.0658\n",
              "90252    0.0030\n",
              "90253   -0.0294\n",
              "90254   -0.0111\n",
              "90255    0.0070\n",
              "90256    0.0218\n",
              "90257    0.0526\n",
              "90258    0.0889\n",
              "90259    0.0178\n",
              "90260    0.0237\n",
              "90261    0.0431\n",
              "90262   -0.2231\n",
              "90263    0.1398\n",
              "90264    0.0478\n",
              "90265   -0.3769\n",
              "90266   -0.0030\n",
              "90267    0.0010\n",
              "90268   -0.0151\n",
              "90269    0.0344\n",
              "90270   -0.0356\n",
              "90271    0.0070\n",
              "90272   -0.2679\n",
              "90273    0.0602\n",
              "90274    0.4207\n",
              "Name: logerror, Length: 90275, dtype: float64"
            ]
          },
          "metadata": {}
        }
      ],
      "execution_count": 263,
      "metadata": {
        "_cell_guid": "e43ccda8-4e92-49da-ab07-57c7313ae37b",
        "_uuid": "3f7cdb006ecfbd3cf27a22c7ca9fa02a0e17a01f",
        "collapsed": true
      }
    },
    {
      "cell_type": "code",
      "source": [
        "x = train_df.iloc[1]\n",
        "#print(x)"
      ],
      "outputs": [],
      "execution_count": 264,
      "metadata": {
        "_cell_guid": "cfb8b19d-2485-4e6d-a680-43d2c5bb2939",
        "_uuid": "9274c0c62ffd2f630e46571c5cfa968c16a32e0d",
        "collapsed": true
      }
    },
    {
      "cell_type": "markdown",
      "source": [
        "**CREATING NEW FEATURES**:\n",
        "\n",
        "Let us create new features using the existing one in the dataframe"
      ],
      "metadata": {
        "_cell_guid": "f4501efe-3186-4bac-afa9-fd5b0db56631",
        "_uuid": "219acb8a6fccf498b50fa44ba70e4758b0125805"
      }
    },
    {
      "cell_type": "code",
      "source": [
        "#--- how old is the house? ---\n",
        "train_df['house_age'] = 2017 - train_df['yearbuilt']\n",
        "\n",
        "#--- how many rooms are there? ---  \n",
        "train_df['tot_rooms'] = train_df['bathroomcnt'] + train_df['bedroomcnt']\n",
        "\n",
        "#--- does the house have A/C? ---\n",
        "train_df['AC'] = np.where(train_df['airconditioningtypeid']>0, 1, 0)\n",
        "\n",
        "#--- Does the house have a deck? ---\n",
        "train_df['deck'] = np.where(train_df['decktypeid']>0, 1, 0)\n",
        "train_df.drop('decktypeid', axis=1, inplace=True)\n",
        "\n",
        "#--- does the house have a heating system? ---\n",
        "train_df['heating_system'] = np.where(train_df['heatingorsystemtypeid']>0, 1, 0)\n",
        "\n",
        "#--- does the house have a garage? ---\n",
        "train_df['garage'] = np.where(train_df['garagecarcnt']>0, 1, 0)\n",
        "\n",
        "#--- does the house come with a patio? ---\n",
        "train_df['patio'] = np.where(train_df['yardbuildingsqft17']>0, 1, 0)\n",
        "\n",
        "#--- does the house have a pool?\n",
        "train_df['pooltypeid10'] = train_df.pooltypeid10.astype(np.int8)\n",
        "train_df['pooltypeid7'] = train_df.pooltypeid7.astype(np.int8)\n",
        "train_df['pooltypei2'] = train_df.pooltypeid2.astype(np.int8)\n",
        "train_df['pool'] = train_df['pooltypeid10'] | train_df['pooltypeid7'] | train_df['pooltypeid2'] \n",
        "\n",
        "#--- does the house have all of these? -> spa/hot-tub/pool, A/C, heating system , garage, patio\n",
        "train_df['exquisite'] = train_df['pool'] + train_df['patio'] + train_df['garage'] + train_df['heating_system'] + train_df['AC'] \n",
        "\n",
        "#--- Features based on location ---\n",
        "train_df['x_loc'] = np.cos(train_df['latitude']) * np.cos(train_df['longitude'])\n",
        "train_df['y_loc'] = np.cos(train_df['latitude']) * np.sin(train_df['longitude'])\n",
        "train_df['z_loc'] = np.sin(train_df['latitude'])\n",
        "\n",
        "print('DONE')"
      ],
      "outputs": [
        {
          "output_type": "stream",
          "name": "stdout",
          "text": [
            "DONE\n"
          ]
        }
      ],
      "execution_count": 265,
      "metadata": {
        "_cell_guid": "b4377aa5-b783-4255-b476-68cc6fb4ff07",
        "_uuid": "e9f9bc5b05ac7e7cddde7d86046575d49612d2f4",
        "collapsed": true
      }
    },
    {
      "cell_type": "markdown",
      "source": [
        "When do people usually buy houses?"
      ],
      "metadata": {
        "_cell_guid": "83b908ad-04fd-4bde-b46b-1713702f8886",
        "_uuid": "5143315882073af055a5932bab2095fcf52ee563"
      }
    },
    {
      "cell_type": "code",
      "source": [
        "#train_df['transaction_year']\n",
        "sns.countplot(x = 'transaction_month', data = train_df)"
      ],
      "outputs": [
        {
          "output_type": "execute_result",
          "execution_count": 266,
          "data": {
            "text/plain": [
              "<matplotlib.axes._subplots.AxesSubplot at 0x1a6d148780>"
            ]
          },
          "metadata": {}
        },
        {
          "output_type": "display_data",
          "data": {
            "text/plain": [
              "<Figure size 432x288 with 1 Axes>"
            ],
            "image/png": "[encoded data removed]"
          },
          "metadata": {
            "needs_background": "light"
          }
        }
      ],
      "execution_count": 266,
      "metadata": {
        "_cell_guid": "af7f42dd-c2c0-4aa2-a616-6472fdf88af4",
        "_uuid": "1c03a1650700a2a3545f9436bbd8c7d12780cb12",
        "collapsed": true
      }
    },
    {
      "cell_type": "code",
      "source": [
        "#--- create an additional feature called season ---\n",
        "def seas(x):\n",
        "    if 2 < x < 6:\n",
        "        return 1        #--- Spring\n",
        "    elif 5 < x < 9:\n",
        "        return 2        #---Summer\n",
        "    elif 8 < x < 12:\n",
        "        return 3        #--- Fall (Autumn) \n",
        "    else:\n",
        "        return 4        #--- Winter \n",
        "\n",
        "train_df['season'] = train_df['transaction_month'].apply(seas)"
      ],
      "outputs": [],
      "execution_count": 267,
      "metadata": {
        "_cell_guid": "28b7e7f2-9ba1-4e63-b9c6-4831350587c9",
        "_uuid": "6421fc8b9afaa96f577decf27942ce5e35afa7aa",
        "collapsed": true
      }
    },
    {
      "cell_type": "code",
      "source": [
        "ax = sns.countplot(x = 'season', data = train_df)\n",
        "ax.set(xlabel='Seasons', ylabel='Count')\n",
        "season_list=['Spring','Summer','Fall','Winter']\n",
        "plt.xticks(range(4), season_list, rotation=45)\n",
        "plt.show()"
      ],
      "outputs": [
        {
          "output_type": "display_data",
          "data": {
            "text/plain": [
              "<Figure size 432x288 with 1 Axes>"
            ],
            "image/png": "[encoded data removed]"
          },
          "metadata": {
            "needs_background": "light"
          }
        }
      ],
      "execution_count": 268,
      "metadata": {
        "_cell_guid": "1dcb5c46-b383-4658-a713-4a4578fdf9d2",
        "_uuid": "8fb9b420f6a9ba8d1301ddeec744acbd39351e33",
        "collapsed": true
      }
    },
    {
      "cell_type": "markdown",
      "source": [
        "Most of the house transactions are done in the Spring and Summer seasons."
      ],
      "metadata": {
        "_cell_guid": "63dba1bd-22f6-4699-b557-73aadae40a3d",
        "_uuid": "22ae5cc2c902a65fc2c2bd80e9aa19c9c30cbaba"
      }
    },
    {
      "cell_type": "markdown",
      "source": [
        "Lets us see the distribution of the newly created exquisite features:"
      ],
      "metadata": {
        "_cell_guid": "65b189ae-c1b0-4b52-a71a-182a7928b19b",
        "_uuid": "e79cd699c3755f69e5a92268bdcea8e63e82d393"
      }
    },
    {
      "cell_type": "code",
      "source": [
        "ax = sns.countplot(x = 'exquisite', data = train_df)\n",
        "ax.set(xlabel='Exquisite features present', ylabel='Count')\n",
        "plt.show()"
      ],
      "outputs": [
        {
          "output_type": "display_data",
          "data": {
            "text/plain": [
              "<Figure size 432x288 with 1 Axes>"
            ],
            "image/png": "[encoded data removed]"
          },
          "metadata": {
            "needs_background": "light"
          }
        }
      ],
      "execution_count": 269,
      "metadata": {
        "_cell_guid": "5a85ccb7-c40d-4294-bd09-886e74b07098",
        "_uuid": "2ede2b37fc5c128d8c3b1b608280f6afb924c378",
        "collapsed": true
      }
    },
    {
      "cell_type": "markdown",
      "source": [
        "Most of the houses have ATLEAST ONE of the mentioned exquisite features."
      ],
      "metadata": {
        "_cell_guid": "c3e90f4f-ef68-4830-91f8-9647410ed6de",
        "_uuid": "0a16f0b1e019ac44632809c2393eaa3c3c0889f3"
      }
    },
    {
      "cell_type": "code",
      "source": [
        "ax = sns.countplot(x = 'transaction_day', data = train_df)\n",
        "ax.set(xlabel='Transaction Days', ylabel='Count')\n",
        "days_list=['Mon', 'Tue', 'Wed', 'Thu', 'Fri', 'Sat', 'Sun']\n",
        "plt.xticks(range(len(days_list)), days_list, rotation=45)\n",
        "plt.show()"
      ],
      "outputs": [
        {
          "output_type": "display_data",
          "data": {
            "text/plain": [
              "<Figure size 432x288 with 1 Axes>"
            ],
            "image/png": "[encoded data removed]"
          },
          "metadata": {
            "needs_background": "light"
          }
        }
      ],
      "execution_count": 270,
      "metadata": {
        "_cell_guid": "535499b2-b797-4bc2-a8c7-36dc385327b8",
        "_uuid": "d0a60236ccab2e17409bce4d180eea05908c2e48",
        "collapsed": true
      }
    },
    {
      "cell_type": "markdown",
      "source": [
        "**New feature**: Weekend/weekday transaction\n",
        "\n",
        "Transactions are high during the weekdays. So we can create another categorical feature Weekdays/Weekends"
      ],
      "metadata": {
        "_cell_guid": "c74cd718-78fb-4309-8eaf-7e7b08d0ada1",
        "_uuid": "e86621a31cbf828fb76a5f7589fa1d479f5157f1"
      }
    },
    {
      "cell_type": "code",
      "source": [
        "#--- create an additional feature called weekday_trans ---\n",
        "def weekday_transaction(x):\n",
        "    if 4 < x <= 6:\n",
        "        return 1        #--- Weekend\n",
        "    else:\n",
        "        return 2        #--- Weekday\n",
        "\n",
        "train_df['weekday_trans'] = train_df['transaction_day'].apply(weekday_transaction)"
      ],
      "outputs": [],
      "execution_count": 271,
      "metadata": {
        "_cell_guid": "1494b385-c922-4df6-99bb-888d18353898",
        "_uuid": "ceaeb1a96a47a3937f53ccb23e8f31e1ba1afdbc",
        "collapsed": true
      }
    },
    {
      "cell_type": "code",
      "source": [
        "ax = sns.countplot(x = 'weekday_trans', data = train_df)\n",
        "ax.set(xlabel='Weekday/weekend', ylabel='Count')\n",
        "weekend_day_list=['Weekend', 'Weekday']\n",
        "plt.xticks(range(len(weekend_day_list)), weekend_day_list, rotation=45)\n",
        "plt.show()"
      ],
      "outputs": [
        {
          "output_type": "display_data",
          "data": {
            "text/plain": [
              "<Figure size 432x288 with 1 Axes>"
            ],
            "image/png": "[encoded data removed]"
          },
          "metadata": {
            "needs_background": "light"
          }
        }
      ],
      "execution_count": 272,
      "metadata": {
        "_cell_guid": "312cb096-1daf-407d-8314-659ff3c9c602",
        "_uuid": "98d28c1adc82532a98fa80937380a03c35997c75",
        "collapsed": true
      }
    },
    {
      "cell_type": "markdown",
      "source": [
        "**New features based on area** "
      ],
      "metadata": {
        "_cell_guid": "8bf20e13-a15d-4fd7-85ba-4ef6c5b3f47f",
        "_uuid": "6df7201151f84e73161a943b41ea7d3090e73a95"
      }
    },
    {
      "cell_type": "code",
      "source": [
        "#--- living area ---\n",
        "train_df['LivingArea'] = train_df['calculatedfinishedsquarefeet']/train_df['lotsizesquarefeet']\n",
        "train_df['LivingArea_2'] = train_df['finishedsquarefeet12']/train_df['finishedsquarefeet15']\n",
        "\n",
        "#--- Extra space available\n",
        "train_df['ExtraSpace'] = train_df['lotsizesquarefeet'] - train_df['calculatedfinishedsquarefeet'] \n",
        "train_df['ExtraSpace-2'] = train_df['finishedsquarefeet15'] - train_df['finishedsquarefeet12'] "
      ],
      "outputs": [],
      "execution_count": 273,
      "metadata": {
        "_cell_guid": "c9befb39-2aec-4ae1-9d16-cd5b409768e6",
        "_uuid": "34fe386fcd1147d5eecb54cdcd4131cb83760ef2",
        "collapsed": true
      }
    },
    {
      "cell_type": "markdown",
      "source": [
        "**New features based on TAX**"
      ],
      "metadata": {
        "_cell_guid": "4f39eab8-5b34-4a03-bcd8-0f52a558e2a4",
        "_uuid": "57905538b40f5fb62a507fb6a3e698c642bc433e"
      }
    },
    {
      "cell_type": "code",
      "source": [
        "#Ratio of tax of property over parcel\n",
        "train_df['ValueRatio'] = train_df['taxvaluedollarcnt']/train_df['taxamount']\n",
        "\n",
        "#TotalTaxScore\n",
        "train_df['TaxScore'] = train_df['taxvaluedollarcnt']*train_df['taxamount']"
      ],
      "outputs": [],
      "execution_count": 274,
      "metadata": {
        "_cell_guid": "9c6901b5-d87e-4a35-9a3a-7babd1e73d8f",
        "_uuid": "832a37c7cceb8b3db051ea02f883ff9a82a19a95",
        "collapsed": true
      }
    },
    {
      "cell_type": "markdown",
      "source": [
        "**New features based on the address**"
      ],
      "metadata": {
        "_cell_guid": "894f04eb-ba5a-4031-a5df-a64343ca939a",
        "_uuid": "8cf87d04b2b81482bb85a17371256d1271400e56"
      }
    },
    {
      "cell_type": "code",
      "source": [
        "#Number of properties in the zip\n",
        "zip_count = train_df['regionidzip'].value_counts().to_dict()\n",
        "train_df['zip_count'] = train_df['regionidzip'].map(zip_count)\n",
        "\n",
        "#Number of properties in the city\n",
        "city_count = train_df['regionidcity'].value_counts().to_dict()\n",
        "train_df['city_count'] = train_df['regionidcity'].map(city_count)\n",
        "\n",
        "#Number of properties in the city\n",
        "region_count = train_df['regionidcounty'].value_counts().to_dict()\n",
        "train_df['county_count'] = train_df['regionidcounty'].map(region_count)"
      ],
      "outputs": [],
      "execution_count": 275,
      "metadata": {
        "_cell_guid": "5fbe70b0-1a7c-44d6-b644-266369409a81",
        "_uuid": "a1c2981062715bb0b3a9cf88091353ae0ea07c82",
        "collapsed": true
      }
    },
    {
      "cell_type": "code",
      "source": [
        "#--- Number of columns present in our dataframe now ---\n",
        "a = train_df.columns.tolist()\n",
        "print('Now there are {} columns in our dataframe'.format(len(a)))"
      ],
      "outputs": [
        {
          "output_type": "stream",
          "name": "stdout",
          "text": [
            "Now there are 84 columns in our dataframe\n"
          ]
        }
      ],
      "execution_count": 276,
      "metadata": {
        "_cell_guid": "e83bc073-dc97-4f9e-ad08-03effe225673",
        "_uuid": "7022f57589ecced9895a35cd91adaab25c200931",
        "collapsed": true
      }
    },
    {
      "cell_type": "markdown",
      "source": [
        "**VISUALIZATIONS**\n",
        "\n",
        "**1. Target Variable**"
      ],
      "metadata": {
        "_cell_guid": "928ee03c-ea9c-4b68-b0c2-62436c791bc9",
        "_uuid": "d5b7d7496601615bb4f10696aa008a56353f650a"
      }
    },
    {
      "cell_type": "markdown",
      "source": [
        "Obtaining the **absolute** error from the **`logerror`** column."
      ],
      "metadata": {
        "_cell_guid": "f61eba6b-6fa5-44f5-ab91-08f49eca31f3",
        "_uuid": "1b649ae28a55d6a20f14e1ce8d21b41b7b78d986"
      }
    },
    {
      "cell_type": "code",
      "source": [
        "import math\n",
        "p = pd.DataFrame()\n",
        "p['val'] = np.exp(train_df['logerror'])\n",
        "print(p.head())\n",
        "\n",
        "plt.scatter(p['val'], p.val.values)\n",
        "plt.xlabel('No of observations', fontsize=12)\n",
        "plt.ylabel('vals', fontsize=12)\n",
        "plt.show()"
      ],
      "outputs": [
        {
          "output_type": "stream",
          "name": "stdout",
          "text": [
            "        val\n",
            "0  1.027984\n",
            "1  0.845016\n",
            "2  0.996008\n",
            "3  1.022039\n",
            "4  0.995012\n"
          ]
        },
        {
          "output_type": "display_data",
          "data": {
            "text/plain": [
              "<Figure size 432x288 with 1 Axes>"
            ],
            "image/png": "[encoded data removed]"
          },
          "metadata": {
            "needs_background": "light"
          }
        }
      ],
      "execution_count": 277,
      "metadata": {
        "_cell_guid": "a7807d67-bc71-45ec-828f-a395eab146fa",
        "_uuid": "2a8fd114a800c42346684a946f3f7a4ea24b01b8",
        "collapsed": true
      }
    },
    {
      "cell_type": "markdown",
      "source": [
        "We can clearly see 4 distinct outliers. \n",
        "\n",
        "Let us see the statistics of the column."
      ],
      "metadata": {
        "_cell_guid": "e89533b0-c96a-4af4-b6ba-d7eb630de50e",
        "_uuid": "86bc0af2b8f2a44780fefa6b0e5d6e4938985050"
      }
    },
    {
      "cell_type": "code",
      "source": [
        "#train_df['logerror']"
      ],
      "outputs": [],
      "execution_count": 278,
      "metadata": {
        "collapsed": false,
        "outputHidden": false,
        "inputHidden": false
      }
    },
    {
      "cell_type": "code",
      "source": [
        "print(p.describe())"
      ],
      "outputs": [
        {
          "output_type": "stream",
          "name": "stdout",
          "text": [
            "                val\n",
            "count  90275.000000\n",
            "mean       1.032591\n",
            "std        0.711017\n",
            "min        0.010002\n",
            "25%        0.975017\n",
            "50%        1.006018\n",
            "75%        1.039978\n",
            "max      114.091414\n"
          ]
        }
      ],
      "execution_count": 279,
      "metadata": {
        "_cell_guid": "e314dc88-51e3-473e-9dff-890f037755f1",
        "_uuid": "001bfdd1184a270a77755b66c3579e2a5269396d",
        "collapsed": true
      }
    },
    {
      "cell_type": "markdown",
      "source": [
        "Let us **remove** those outliers and visualize the plot and see the statistics again"
      ],
      "metadata": {
        "_cell_guid": "1ae26bed-95d9-4b61-b599-e5bd432fbae1",
        "_uuid": "21808b193a6ee573a95911cb8d90c6129cb54570"
      }
    },
    {
      "cell_type": "code",
      "source": [
        "p = p[p['val'] < 40]\n",
        "\n",
        "plt.scatter(p['val'], p.val.values)\n",
        "plt.xlabel('No of observations', fontsize=12)\n",
        "plt.ylabel('vals', fontsize=12)\n",
        "plt.show()\n",
        "\n",
        "print(p.describe())"
      ],
      "outputs": [
        {
          "output_type": "display_data",
          "data": {
            "text/plain": [
              "<Figure size 432x288 with 1 Axes>"
            ],
            "image/png": "[encoded data removed]"
          },
          "metadata": {
            "needs_background": "light"
          }
        },
        {
          "output_type": "stream",
          "name": "stdout",
          "text": [
            "                val\n",
            "count  90271.000000\n",
            "mean       1.028826\n",
            "std        0.405412\n",
            "min        0.010002\n",
            "25%        0.975017\n",
            "50%        1.006018\n",
            "75%        1.039978\n",
            "max       31.280660\n"
          ]
        }
      ],
      "execution_count": 280,
      "metadata": {
        "_cell_guid": "4cf97653-ade9-4198-8c36-95ee0ddbf1e9",
        "_uuid": "0fe21ea8bb8a140f1caac1c11823941344c17941",
        "collapsed": true
      }
    },
    {
      "cell_type": "markdown",
      "source": [
        "The ***standard deviation*** and the ***maximum*** value have dropped by quite a large margin."
      ],
      "metadata": {
        "_cell_guid": "9a290edd-a9ae-497a-a658-ffdda81be6ef",
        "_uuid": "d7ea5c04d27ab4772cabf9e88a2fddb929ffaffd"
      }
    },
    {
      "cell_type": "code",
      "source": [
        "#plt.hist(np.log(train_df['trip_duration']+25), bins = 25)\n",
        "plt.hist(train_df['logerror'], bins = 100)"
      ],
      "outputs": [
        {
          "output_type": "execute_result",
          "execution_count": 281,
          "data": {
            "text/plain": [
              "(array([2.0000e+00, 1.0000e+00, 0.0000e+00, 0.0000e+00, 0.0000e+00,\n",
              "        0.0000e+00, 0.0000e+00, 0.0000e+00, 0.0000e+00, 0.0000e+00,\n",
              "        0.0000e+00, 0.0000e+00, 0.0000e+00, 0.0000e+00, 0.0000e+00,\n",
              "        1.0000e+00, 0.0000e+00, 1.0000e+00, 0.0000e+00, 0.0000e+00,\n",
              "        1.0000e+00, 0.0000e+00, 0.0000e+00, 4.0000e+00, 2.8000e+01,\n",
              "        8.0000e+00, 1.0000e+00, 0.0000e+00, 0.0000e+00, 1.0000e+00,\n",
              "        4.0000e+00, 2.0000e+00, 5.0000e+00, 3.0000e+00, 9.0000e+00,\n",
              "        7.0000e+00, 1.5000e+01, 1.2000e+01, 2.0000e+01, 3.8000e+01,\n",
              "        4.6000e+01, 6.8000e+01, 8.1000e+01, 1.1100e+02, 2.0800e+02,\n",
              "        4.4400e+02, 9.4500e+02, 2.8000e+03, 1.6710e+04, 5.5202e+04,\n",
              "        8.7500e+03, 2.2650e+03, 9.7900e+02, 5.1800e+02, 2.6200e+02,\n",
              "        1.6600e+02, 1.0900e+02, 1.0900e+02, 7.1000e+01, 4.2000e+01,\n",
              "        3.5000e+01, 2.7000e+01, 2.1000e+01, 2.3000e+01, 1.4000e+01,\n",
              "        1.0000e+01, 6.0000e+00, 7.0000e+00, 6.0000e+00, 9.0000e+00,\n",
              "        9.0000e+00, 7.0000e+00, 5.0000e+00, 4.0000e+00, 9.0000e+00,\n",
              "        8.0000e+00, 4.0000e+00, 1.0000e+00, 3.0000e+00, 1.0000e+00,\n",
              "        2.0000e+00, 2.0000e+00, 2.0000e+00, 2.0000e+00, 2.0000e+00,\n",
              "        1.0000e+00, 2.0000e+00, 0.0000e+00, 0.0000e+00, 0.0000e+00,\n",
              "        0.0000e+00, 1.0000e+00, 0.0000e+00, 0.0000e+00, 0.0000e+00,\n",
              "        0.0000e+00, 1.0000e+00, 1.0000e+00, 0.0000e+00, 1.0000e+00]),\n",
              " array([-4.605  , -4.51158, -4.41816, -4.32474, -4.23132, -4.1379 ,\n",
              "        -4.04448, -3.95106, -3.85764, -3.76422, -3.6708 , -3.57738,\n",
              "        -3.48396, -3.39054, -3.29712, -3.2037 , -3.11028, -3.01686,\n",
              "        -2.92344, -2.83002, -2.7366 , -2.64318, -2.54976, -2.45634,\n",
              "        -2.36292, -2.2695 , -2.17608, -2.08266, -1.98924, -1.89582,\n",
              "        -1.8024 , -1.70898, -1.61556, -1.52214, -1.42872, -1.3353 ,\n",
              "        -1.24188, -1.14846, -1.05504, -0.96162, -0.8682 , -0.77478,\n",
              "        -0.68136, -0.58794, -0.49452, -0.4011 , -0.30768, -0.21426,\n",
              "        -0.12084, -0.02742,  0.066  ,  0.15942,  0.25284,  0.34626,\n",
              "         0.43968,  0.5331 ,  0.62652,  0.71994,  0.81336,  0.90678,\n",
              "         1.0002 ,  1.09362,  1.18704,  1.28046,  1.37388,  1.4673 ,\n",
              "         1.56072,  1.65414,  1.74756,  1.84098,  1.9344 ,  2.02782,\n",
              "         2.12124,  2.21466,  2.30808,  2.4015 ,  2.49492,  2.58834,\n",
              "         2.68176,  2.77518,  2.8686 ,  2.96202,  3.05544,  3.14886,\n",
              "         3.24228,  3.3357 ,  3.42912,  3.52254,  3.61596,  3.70938,\n",
              "         3.8028 ,  3.89622,  3.98964,  4.08306,  4.17648,  4.2699 ,\n",
              "         4.36332,  4.45674,  4.55016,  4.64358,  4.737  ]),\n",
              " <a list of 100 Patch objects>)"
            ]
          },
          "metadata": {}
        },
        {
          "output_type": "display_data",
          "data": {
            "text/plain": [
              "<Figure size 432x288 with 1 Axes>"
            ],
            "image/png": "[encoded data removed]"
          },
          "metadata": {
            "needs_background": "light"
          }
        }
      ],
      "execution_count": 281,
      "metadata": {
        "_cell_guid": "b5780a26-db4d-434e-9183-cfd424f8cfa1",
        "_uuid": "c94a5f2b390b0e1790c3647397da2efd9f48776b",
        "collapsed": true
      }
    },
    {
      "cell_type": "markdown",
      "source": [
        "**2. Correlations**"
      ],
      "metadata": {
        "_cell_guid": "fd7aee6b-84c3-4e9d-9109-fbfdfea7e202",
        "_uuid": "c996b0ed33c54ee45acfd6ab6c6a7f24a09690ad"
      }
    },
    {
      "cell_type": "markdown",
      "source": [
        "corr = train_df.corr()\n",
        "fig, ax = plt.subplots(figsize=(20, 20))\n",
        "ax.matshow(corr)\n",
        "ax.set_xticklabels(ax.xaxis.get_majorticklabels(), rotation=90)\n",
        "plt.xticks(range(len(corr.columns)), corr.columns, fontsize = 15)\n",
        "plt.yticks(range(len(corr.columns)), corr.columns, fontsize = 15)"
      ],
      "metadata": {}
    },
    {
      "cell_type": "markdown",
      "source": [
        "**MEMORY CONSUMPTION**\n",
        "\n",
        "Let us look into the memory consumption of our dataframe and see if we can reduce it efficiently."
      ],
      "metadata": {
        "_cell_guid": "cc6c1115-fab6-4211-b17c-a700d52464d0",
        "_uuid": "114c42194c99b3c72bac6f6b84712ff7d1bdfaa4"
      }
    },
    {
      "cell_type": "markdown",
      "source": [
        "#--- Memory usage of entire dataframe ---\n",
        "mem = train_df.memory_usage(index=True).sum()\n",
        "print(mem/ 1024**2,\" MB\")"
      ],
      "metadata": {}
    },
    {
      "cell_type": "code",
      "source": [
        "#--- Memory usage of each column ---\n",
        "#print(train_df.memory_usage()/ 1024**2)  #--- in MB ---"
      ],
      "outputs": [],
      "execution_count": 282,
      "metadata": {
        "_cell_guid": "5e548fdc-97f5-4c28-84ca-07b356632eee",
        "_uuid": "118444db58d04bfb6f81197069dfac664f9aa014",
        "collapsed": true
      }
    },
    {
      "cell_type": "markdown",
      "source": [
        "We can reduce memory for columns only having type **`int`** and type **`float`**, or columns having **numeric** values."
      ],
      "metadata": {
        "_cell_guid": "bc15f91e-d8c5-4cb6-88f3-271426ed9142",
        "_uuid": "1a4098b155b9acb60b093d1c9815b55232695158"
      }
    },
    {
      "cell_type": "markdown",
      "source": [
        "#--- List of columns that cannot be reduced in terms of memory size ---\n",
        "count = 0\n",
        "for col in train_df.columns:\n",
        "    if train_df[col].dtype == object:\n",
        "        count+=1\n",
        "        print (col)\n",
        "print('There are {} columns that cannot be reduced'.format(count))        "
      ],
      "metadata": {}
    },
    {
      "cell_type": "markdown",
      "source": [
        "Reducing columns to type `int8` if possible"
      ],
      "metadata": {
        "_cell_guid": "dc080d0f-add7-47d5-a203-41f672fab85e",
        "_uuid": "86ff5d86a21ba9157b9d1bcc77460fc9809ba6be"
      }
    },
    {
      "cell_type": "markdown",
      "source": [
        "count = 0\n",
        "for col in train_df.columns:\n",
        "    if train_df[col].dtype != object:\n",
        "        if ((train_df[col].max() < 255) & (train_df[col].min() > -255)):\n",
        "            if((col != 'logerror')|(col != 'yearbuilt')|(col != 'xloc')|(col != 'yloc')|(col != 'zloc')):\n",
        "                count+=1\n",
        "                train_df[col] = train_df[col].astype(np.int8)\n",
        "                #print (col)\n",
        "print(count)                \n",
        "                "
      ],
      "metadata": {}
    },
    {
      "cell_type": "markdown",
      "source": [
        "#--- Memory usage of reduced dataframe ---\n",
        "mem = train_df.memory_usage(index=True).sum()\n",
        "print(mem/ 1024**2,\" MB\")"
      ],
      "metadata": {}
    },
    {
      "cell_type": "markdown",
      "source": [
        "We just reduced the dataframe size **from** **~57MB to ~35MB**\n",
        "\n",
        "*Splendid*\n",
        "\n"
      ],
      "metadata": {
        "_cell_guid": "fcc0f2f7-34b1-4647-80fb-8b879d1c34d2",
        "_uuid": "61f0bbb463499bf2b65b07514910b70b849f8789"
      }
    },
    {
      "cell_type": "markdown",
      "source": [
        "#--- Reducing memory of `float64` type columns to `float32` type columns\n",
        "\n",
        "count = 0\n",
        "for col in train_df.columns:\n",
        "    if train_df[col].dtype != object:\n",
        "        if train_df[col].dtype == float:\n",
        "            train_df[col] = train_df[col].astype(np.float32)\n",
        "            count+=1\n",
        "print('There were {} such columns'.format(count))"
      ],
      "metadata": {}
    },
    {
      "cell_type": "markdown",
      "source": [
        "#--- Let us check the memory consumed again ---\n",
        "mem = train_df.memory_usage(index=True).sum()\n",
        "print(mem/ 1024**2,\" MB\")"
      ],
      "metadata": {}
    },
    {
      "cell_type": "markdown",
      "source": [
        "WOW!!! Now reduced **from ~35MB to ~24MB !!!!**\n",
        "\n",
        "Let us see what we can do with columns of type **`int64`**."
      ],
      "metadata": {
        "_cell_guid": "1ecb5692-70ed-4df8-a0e4-84861110026c",
        "_uuid": "737b6bdaf80479e52fc8841092a37670d7054dca"
      }
    },
    {
      "cell_type": "markdown",
      "source": [
        "#print(train_df.dtypes)\n",
        "#print(train_df.dtypes.value_counts())\n",
        "col_int64 = []\n",
        "for col in train_df.columns:\n",
        "    if train_df[col].dtype == 'int64':\n",
        "        print(col)\n",
        "        col_int64.append(col)\n",
        "print(col_int64)"
      ],
      "metadata": {}
    },
    {
      "cell_type": "markdown",
      "source": [
        "By checking the maximum and minimum values of these columns we can make sure which ones to convert to type **`int32`**."
      ],
      "metadata": {
        "_cell_guid": "9e78d586-ca57-4b7e-a8dc-467006f28cfc",
        "_uuid": "264aa196b7d2c7948b021cdd25cf92e248d837b0"
      }
    },
    {
      "cell_type": "markdown",
      "source": [
        "for i in col_int64:\n",
        "    print('{} - {} and {}'.format(i, max(train_df[i]), min(train_df[i])) )"
      ],
      "metadata": {}
    },
    {
      "cell_type": "markdown",
      "source": [
        "Clearly these three columns can be converted to type **`int32`**:\n",
        "\n",
        "`zip_count`, `city_count` and `county_count`"
      ],
      "metadata": {
        "_cell_guid": "7e38f60a-0a62-4842-aca8-121daacb3567",
        "_uuid": "976f7d7697fae316833a1541a6a44e705b69b1cd"
      }
    },
    {
      "cell_type": "markdown",
      "source": [
        "train_df['zip_count'] = train_df['zip_count'].astype(np.int32)\n",
        "train_df['city_count'] = train_df['city_count'].astype(np.int32)\n",
        "train_df['county_count'] = train_df['county_count'].astype(np.int32)"
      ],
      "metadata": {}
    },
    {
      "cell_type": "markdown",
      "source": [
        "mem = train_df.memory_usage(index=True).sum()\n",
        "print(mem/ 1024**2,\" MB\")"
      ],
      "metadata": {}
    },
    {
      "cell_type": "code",
      "source": [
        "train_df.to_csv('cleaned_2016.csv',index=False)"
      ],
      "outputs": [],
      "execution_count": 285,
      "metadata": {
        "collapsed": false,
        "outputHidden": false,
        "inputHidden": false
      }
    },
    {
      "cell_type": "code",
      "source": [],
      "outputs": [],
      "execution_count": null,
      "metadata": {
        "collapsed": false,
        "outputHidden": false,
        "inputHidden": false
      }
    }
  ],
  "metadata": {
    "kernelspec": {
      "name": "python3",
      "language": "python",
      "display_name": "Python 3"
    },
    "language_info": {
      "name": "python",
      "version": "3.7.1",
      "mimetype": "text/x-python",
      "codemirror_mode": {
        "name": "ipython",
        "version": 3
      },
      "pygments_lexer": "ipython3",
      "nbconvert_exporter": "python",
      "file_extension": ".py"
    },
    "kernel_info": {
      "name": "python3"
    },
    "nteract": {
      "version": "0.14.0"
    }
  },
  "nbformat": 4,
  "nbformat_minor": 1
}